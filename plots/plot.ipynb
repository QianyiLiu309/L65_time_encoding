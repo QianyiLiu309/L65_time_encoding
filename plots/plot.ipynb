{
  "nbformat": 4,
  "nbformat_minor": 0,
  "metadata": {
    "colab": {
      "provenance": [],
      "toc_visible": true
    },
    "kernelspec": {
      "name": "python3",
      "display_name": "Python 3"
    },
    "language_info": {
      "name": "python"
    }
  },
  "cells": [
    {
      "cell_type": "code",
      "execution_count": 1,
      "metadata": {
        "colab": {
          "base_uri": "https://localhost:8080/"
        },
        "id": "mw0-79LPpHCG",
        "outputId": "45ffa363-88ae-44ff-c015-60b8df5c03eb"
      },
      "outputs": [
        {
          "output_type": "stream",
          "name": "stdout",
          "text": [
            "Collecting py-tgb\n",
            "  Downloading py_tgb-0.9.2-py3-none-any.whl (61 kB)\n",
            "\u001b[?25l     \u001b[90m━━━━━━━━━━━━━━━━━━━━━━━━━━━━━━━━━━━━━━━━\u001b[0m \u001b[32m0.0/61.8 kB\u001b[0m \u001b[31m?\u001b[0m eta \u001b[36m-:--:--\u001b[0m\r\u001b[2K     \u001b[90m━━━━━━━━━━━━━━━━━━━━━━━━━━━━━━━━━━━━━━━━\u001b[0m \u001b[32m61.8/61.8 kB\u001b[0m \u001b[31m2.1 MB/s\u001b[0m eta \u001b[36m0:00:00\u001b[0m\n",
            "\u001b[?25hCollecting clint<0.6.0,>=0.5.1 (from py-tgb)\n",
            "  Downloading clint-0.5.1.tar.gz (29 kB)\n",
            "  Preparing metadata (setup.py) ... \u001b[?25l\u001b[?25hdone\n",
            "Requirement already satisfied: pandas<2.0.0,>=1.5.3 in /usr/local/lib/python3.10/dist-packages (from py-tgb) (1.5.3)\n",
            "Requirement already satisfied: requests<3.0.0,>=2.28.2 in /usr/local/lib/python3.10/dist-packages (from py-tgb) (2.31.0)\n",
            "Requirement already satisfied: scikit-learn<2.0.0,>=1.2.2 in /usr/local/lib/python3.10/dist-packages (from py-tgb) (1.2.2)\n",
            "Collecting torch-geometric<3.0.0,>=2.3.0 (from py-tgb)\n",
            "  Downloading torch_geometric-2.4.0-py3-none-any.whl (1.0 MB)\n",
            "\u001b[2K     \u001b[90m━━━━━━━━━━━━━━━━━━━━━━━━━━━━━━━━━━━━━━━━\u001b[0m \u001b[32m1.0/1.0 MB\u001b[0m \u001b[31m33.0 MB/s\u001b[0m eta \u001b[36m0:00:00\u001b[0m\n",
            "\u001b[?25hRequirement already satisfied: tqdm<5.0.0,>=4.65.0 in /usr/local/lib/python3.10/dist-packages (from py-tgb) (4.66.1)\n",
            "Collecting args (from clint<0.6.0,>=0.5.1->py-tgb)\n",
            "  Downloading args-0.1.0.tar.gz (3.0 kB)\n",
            "  Preparing metadata (setup.py) ... \u001b[?25l\u001b[?25hdone\n",
            "Requirement already satisfied: python-dateutil>=2.8.1 in /usr/local/lib/python3.10/dist-packages (from pandas<2.0.0,>=1.5.3->py-tgb) (2.8.2)\n",
            "Requirement already satisfied: pytz>=2020.1 in /usr/local/lib/python3.10/dist-packages (from pandas<2.0.0,>=1.5.3->py-tgb) (2023.3.post1)\n",
            "Requirement already satisfied: numpy>=1.21.0 in /usr/local/lib/python3.10/dist-packages (from pandas<2.0.0,>=1.5.3->py-tgb) (1.23.5)\n",
            "Requirement already satisfied: charset-normalizer<4,>=2 in /usr/local/lib/python3.10/dist-packages (from requests<3.0.0,>=2.28.2->py-tgb) (3.3.2)\n",
            "Requirement already satisfied: idna<4,>=2.5 in /usr/local/lib/python3.10/dist-packages (from requests<3.0.0,>=2.28.2->py-tgb) (3.6)\n",
            "Requirement already satisfied: urllib3<3,>=1.21.1 in /usr/local/lib/python3.10/dist-packages (from requests<3.0.0,>=2.28.2->py-tgb) (2.0.7)\n",
            "Requirement already satisfied: certifi>=2017.4.17 in /usr/local/lib/python3.10/dist-packages (from requests<3.0.0,>=2.28.2->py-tgb) (2023.11.17)\n",
            "Requirement already satisfied: scipy>=1.3.2 in /usr/local/lib/python3.10/dist-packages (from scikit-learn<2.0.0,>=1.2.2->py-tgb) (1.11.4)\n",
            "Requirement already satisfied: joblib>=1.1.1 in /usr/local/lib/python3.10/dist-packages (from scikit-learn<2.0.0,>=1.2.2->py-tgb) (1.3.2)\n",
            "Requirement already satisfied: threadpoolctl>=2.0.0 in /usr/local/lib/python3.10/dist-packages (from scikit-learn<2.0.0,>=1.2.2->py-tgb) (3.2.0)\n",
            "Requirement already satisfied: jinja2 in /usr/local/lib/python3.10/dist-packages (from torch-geometric<3.0.0,>=2.3.0->py-tgb) (3.1.3)\n",
            "Requirement already satisfied: pyparsing in /usr/local/lib/python3.10/dist-packages (from torch-geometric<3.0.0,>=2.3.0->py-tgb) (3.1.1)\n",
            "Requirement already satisfied: psutil>=5.8.0 in /usr/local/lib/python3.10/dist-packages (from torch-geometric<3.0.0,>=2.3.0->py-tgb) (5.9.5)\n",
            "Requirement already satisfied: six>=1.5 in /usr/local/lib/python3.10/dist-packages (from python-dateutil>=2.8.1->pandas<2.0.0,>=1.5.3->py-tgb) (1.16.0)\n",
            "Requirement already satisfied: MarkupSafe>=2.0 in /usr/local/lib/python3.10/dist-packages (from jinja2->torch-geometric<3.0.0,>=2.3.0->py-tgb) (2.1.4)\n",
            "Building wheels for collected packages: clint, args\n",
            "  Building wheel for clint (setup.py) ... \u001b[?25l\u001b[?25hdone\n",
            "  Created wheel for clint: filename=clint-0.5.1-py3-none-any.whl size=34457 sha256=3a67999f993df2cbb3e50d3c967fda303943d408b1477d8f16ddbc33cf6d9c2c\n",
            "  Stored in directory: /root/.cache/pip/wheels/60/bd/a0/c20dd085251d95af656b5e3d287db7d4b4e8aec67b53a6f8dd\n",
            "  Building wheel for args (setup.py) ... \u001b[?25l\u001b[?25hdone\n",
            "  Created wheel for args: filename=args-0.1.0-py3-none-any.whl size=3318 sha256=e1005f37c50f55f6cdd60b66228afdf04d8bc6353f9e43025fab6a1d445863ac\n",
            "  Stored in directory: /root/.cache/pip/wheels/18/d7/bc/7b88d8405d97070a1a62712fd639ea0ad8d14b3dd74075cca6\n",
            "Successfully built clint args\n",
            "Installing collected packages: args, clint, torch-geometric, py-tgb\n",
            "Successfully installed args-0.1.0 clint-0.5.1 py-tgb-0.9.2 torch-geometric-2.4.0\n"
          ]
        }
      ],
      "source": [
        "!pip install py-tgb"
      ]
    },
    {
      "cell_type": "code",
      "source": [
        "!git clone https://github.com/shenyangHuang/TGB.git"
      ],
      "metadata": {
        "colab": {
          "base_uri": "https://localhost:8080/"
        },
        "id": "EFulHH5b57dv",
        "outputId": "b27fa366-01f8-4396-cf23-e1b4604eeab2"
      },
      "execution_count": 2,
      "outputs": [
        {
          "output_type": "stream",
          "name": "stdout",
          "text": [
            "Cloning into 'TGB'...\n",
            "remote: Enumerating objects: 2720, done.\u001b[K\n",
            "remote: Counting objects: 100% (275/275), done.\u001b[K\n",
            "remote: Compressing objects: 100% (159/159), done.\u001b[K\n",
            "remote: Total 2720 (delta 121), reused 167 (delta 107), pack-reused 2445\u001b[K\n",
            "Receiving objects: 100% (2720/2720), 5.39 MiB | 21.46 MiB/s, done.\n",
            "Resolving deltas: 100% (1557/1557), done.\n"
          ]
        }
      ]
    },
    {
      "cell_type": "code",
      "source": [
        "from tgb.linkproppred.dataset_pyg import PyGLinkPropPredDataset\n"
      ],
      "metadata": {
        "id": "FfBmp617pMv1"
      },
      "execution_count": 3,
      "outputs": []
    },
    {
      "cell_type": "code",
      "source": [
        "name = \"tgbl-wiki\"\n",
        "dataset = PyGLinkPropPredDataset(name=name, root=\"datasets\")"
      ],
      "metadata": {
        "colab": {
          "base_uri": "https://localhost:8080/"
        },
        "id": "Eo9CUENWpZAe",
        "outputId": "3c0b1ad0-ff64-4312-ba3b-f1f7b6b4092b"
      },
      "execution_count": 4,
      "outputs": [
        {
          "output_type": "stream",
          "name": "stdout",
          "text": [
            "Dataset tgbl-wiki version 2 not found.\n",
            "Please download the latest version of the dataset.\n",
            "Will you download the dataset(s) now? (y/N)\n",
            "y\n",
            "\u001b[93mDownload started, this might take a while . . . \u001b[0m\n",
            "Dataset title: tgbl-wiki\n",
            "\u001b[92mDownload completed \u001b[0m\n",
            "Dataset directory is  /usr/local/lib/python3.10/dist-packages/tgb/datasets/tgbl_wiki\n",
            "file not processed, generating processed file\n"
          ]
        }
      ]
    },
    {
      "cell_type": "code",
      "source": [],
      "metadata": {
        "colab": {
          "base_uri": "https://localhost:8080/"
        },
        "id": "CZrnHvvMVw0H",
        "outputId": "47cf81f7-3b7d-4a88-dd27-13f9a8a46708"
      },
      "execution_count": 26,
      "outputs": [
        {
          "output_type": "execute_result",
          "data": {
            "text/plain": [
              "Tgbl-wiki()"
            ]
          },
          "metadata": {},
          "execution_count": 26
        }
      ]
    },
    {
      "cell_type": "code",
      "source": [],
      "metadata": {
        "id": "OKDooUe3Vw3U"
      },
      "execution_count": null,
      "outputs": []
    },
    {
      "cell_type": "code",
      "source": [
        "data = dataset.get_TemporalData()"
      ],
      "metadata": {
        "id": "TRqsxcD4pkCY"
      },
      "execution_count": 5,
      "outputs": []
    },
    {
      "cell_type": "code",
      "source": [
        "data"
      ],
      "metadata": {
        "colab": {
          "base_uri": "https://localhost:8080/"
        },
        "id": "tCdmUrNqYHW_",
        "outputId": "1d8ef1d7-2ae3-4a40-b7eb-6051ea73c41c"
      },
      "execution_count": 6,
      "outputs": [
        {
          "output_type": "execute_result",
          "data": {
            "text/plain": [
              "TemporalData(src=[157474], dst=[157474], t=[157474], msg=[157474, 172], y=[157474])"
            ]
          },
          "metadata": {},
          "execution_count": 6
        }
      ]
    },
    {
      "cell_type": "code",
      "source": [
        "dataset.test_mask.sum()"
      ],
      "metadata": {
        "colab": {
          "base_uri": "https://localhost:8080/"
        },
        "id": "tD7o3ROeZ5M0",
        "outputId": "dab73d32-4bf1-429b-dc1a-0d768ad49362"
      },
      "execution_count": 7,
      "outputs": [
        {
          "output_type": "execute_result",
          "data": {
            "text/plain": [
              "tensor(23621)"
            ]
          },
          "metadata": {},
          "execution_count": 7
        }
      ]
    },
    {
      "cell_type": "code",
      "source": [
        "dataset.train_mask.sum()"
      ],
      "metadata": {
        "colab": {
          "base_uri": "https://localhost:8080/"
        },
        "id": "joAMtdB4aCLz",
        "outputId": "ef7b7690-3985-4f36-dc43-d0d254c62958"
      },
      "execution_count": 8,
      "outputs": [
        {
          "output_type": "execute_result",
          "data": {
            "text/plain": [
              "tensor(110232)"
            ]
          },
          "metadata": {},
          "execution_count": 8
        }
      ]
    },
    {
      "cell_type": "code",
      "source": [
        "dataset.val_mask.sum()"
      ],
      "metadata": {
        "colab": {
          "base_uri": "https://localhost:8080/"
        },
        "id": "AxSthMpbaD4J",
        "outputId": "640825ba-6e82-4381-8d90-26ffcd912c7e"
      },
      "execution_count": 9,
      "outputs": [
        {
          "output_type": "execute_result",
          "data": {
            "text/plain": [
              "tensor(23621)"
            ]
          },
          "metadata": {},
          "execution_count": 9
        }
      ]
    },
    {
      "cell_type": "code",
      "source": [
        "import numpy as np\n",
        "\n",
        "c = np.logical_or(dataset.test_mask, dataset.val_mask)\n",
        "c = c.bool()\n"
      ],
      "metadata": {
        "id": "_WouiNsvaNxi"
      },
      "execution_count": 11,
      "outputs": []
    },
    {
      "cell_type": "code",
      "source": [
        "# data = data[c]"
      ],
      "metadata": {
        "id": "7kZhDRUgapx-"
      },
      "execution_count": 12,
      "outputs": []
    },
    {
      "cell_type": "code",
      "source": [
        "dataset.test_mask"
      ],
      "metadata": {
        "colab": {
          "base_uri": "https://localhost:8080/"
        },
        "id": "hxq-KqzdXux-",
        "outputId": "6c0e7878-c64e-4817-808a-fc4a7ba92dd2"
      },
      "execution_count": 13,
      "outputs": [
        {
          "output_type": "execute_result",
          "data": {
            "text/plain": [
              "tensor([False, False, False,  ...,  True,  True,  True])"
            ]
          },
          "metadata": {},
          "execution_count": 13
        }
      ]
    },
    {
      "cell_type": "code",
      "source": [
        "dataset.negative_sampler"
      ],
      "metadata": {
        "colab": {
          "base_uri": "https://localhost:8080/"
        },
        "id": "CPhD906-VPqG",
        "outputId": "ba184f68-ee44-4baf-9262-f04d24930b8c"
      },
      "execution_count": 15,
      "outputs": [
        {
          "output_type": "execute_result",
          "data": {
            "text/plain": [
              "<tgb.linkproppred.negative_sampler.NegativeEdgeSampler at 0x7c7ef61e8bb0>"
            ]
          },
          "metadata": {},
          "execution_count": 15
        }
      ]
    },
    {
      "cell_type": "code",
      "source": [
        "c"
      ],
      "metadata": {
        "colab": {
          "base_uri": "https://localhost:8080/"
        },
        "id": "sdGvSvZwbN3p",
        "outputId": "5d1d584b-e760-44d4-c80b-07fdf5125445"
      },
      "execution_count": 16,
      "outputs": [
        {
          "output_type": "execute_result",
          "data": {
            "text/plain": [
              "tensor([False, False, False,  ...,  True,  True,  True])"
            ]
          },
          "metadata": {},
          "execution_count": 16
        }
      ]
    },
    {
      "cell_type": "code",
      "source": [
        "data = data[dataset.test_mask]"
      ],
      "metadata": {
        "id": "MWUXI7xxXlX4"
      },
      "execution_count": 17,
      "outputs": []
    },
    {
      "cell_type": "code",
      "source": [
        "data.keys()"
      ],
      "metadata": {
        "colab": {
          "base_uri": "https://localhost:8080/"
        },
        "id": "DuWMWVDwYOFE",
        "outputId": "170cc78a-08b9-48f4-f8db-9541b31995a2"
      },
      "execution_count": 18,
      "outputs": [
        {
          "output_type": "execute_result",
          "data": {
            "text/plain": [
              "['y', 'dst', 'msg', 'src', 't']"
            ]
          },
          "metadata": {},
          "execution_count": 18
        }
      ]
    },
    {
      "cell_type": "code",
      "source": [
        "data['src']"
      ],
      "metadata": {
        "colab": {
          "base_uri": "https://localhost:8080/"
        },
        "id": "QoGyKhbAYcly",
        "outputId": "04a0cc04-8cf9-4aea-e935-5fb94377e276"
      },
      "execution_count": 19,
      "outputs": [
        {
          "output_type": "execute_result",
          "data": {
            "text/plain": [
              "tensor([3173, 7326, 7325,  ..., 2399, 7479, 2399])"
            ]
          },
          "metadata": {},
          "execution_count": 19
        }
      ]
    },
    {
      "cell_type": "code",
      "source": [
        "data['dst']"
      ],
      "metadata": {
        "colab": {
          "base_uri": "https://localhost:8080/"
        },
        "id": "oNWaB5hScqdt",
        "outputId": "147c0768-b8cb-4c03-c394-75b7a882b1d4"
      },
      "execution_count": 20,
      "outputs": [
        {
          "output_type": "execute_result",
          "data": {
            "text/plain": [
              "tensor([8267, 8491, 8348,  ..., 8722, 9147, 8722])"
            ]
          },
          "metadata": {},
          "execution_count": 20
        }
      ]
    },
    {
      "cell_type": "code",
      "source": [
        "data['t']"
      ],
      "metadata": {
        "colab": {
          "base_uri": "https://localhost:8080/"
        },
        "id": "VaPuoelghYC9",
        "outputId": "67f5de6f-7dd0-4f9f-c502-485ad9a3ac2e"
      },
      "execution_count": 21,
      "outputs": [
        {
          "output_type": "execute_result",
          "data": {
            "text/plain": [
              "tensor([2218300, 2218303, 2218304,  ..., 2678293, 2678333, 2678373])"
            ]
          },
          "metadata": {},
          "execution_count": 21
        }
      ]
    },
    {
      "cell_type": "code",
      "source": [
        "len(data['t'])"
      ],
      "metadata": {
        "colab": {
          "base_uri": "https://localhost:8080/"
        },
        "id": "NKj5rXU0haCW",
        "outputId": "8a3e9956-4846-46ce-a9fb-40ecdd3adecb"
      },
      "execution_count": 22,
      "outputs": [
        {
          "output_type": "execute_result",
          "data": {
            "text/plain": [
              "23621"
            ]
          },
          "metadata": {},
          "execution_count": 22
        }
      ]
    },
    {
      "cell_type": "code",
      "source": [
        "data['t'].shape"
      ],
      "metadata": {
        "colab": {
          "base_uri": "https://localhost:8080/"
        },
        "id": "r5D2e8LYcDoW",
        "outputId": "ca7c4389-2aab-4635-a294-6ee22b842e12"
      },
      "execution_count": 23,
      "outputs": [
        {
          "output_type": "execute_result",
          "data": {
            "text/plain": [
              "torch.Size([23621])"
            ]
          },
          "metadata": {},
          "execution_count": 23
        }
      ]
    },
    {
      "cell_type": "code",
      "source": [
        "len(data['dst'])"
      ],
      "metadata": {
        "colab": {
          "base_uri": "https://localhost:8080/"
        },
        "id": "zQdWVANlY7e7",
        "outputId": "c9c9a15a-a65c-4ff4-9ae9-2dd830b6ab8f"
      },
      "execution_count": 24,
      "outputs": [
        {
          "output_type": "execute_result",
          "data": {
            "text/plain": [
              "23621"
            ]
          },
          "metadata": {},
          "execution_count": 24
        }
      ]
    },
    {
      "cell_type": "code",
      "source": [
        "n_bins = 1000\n",
        "step = (data['t'].max() - data['t'].min()) // n_bins\n",
        "step"
      ],
      "metadata": {
        "colab": {
          "base_uri": "https://localhost:8080/"
        },
        "id": "dJ5Vgg3ckYfF",
        "outputId": "3d276add-f45d-4e94-a191-ba4925372703"
      },
      "execution_count": 27,
      "outputs": [
        {
          "output_type": "execute_result",
          "data": {
            "text/plain": [
              "tensor(460)"
            ]
          },
          "metadata": {},
          "execution_count": 27
        }
      ]
    },
    {
      "cell_type": "code",
      "source": [
        "target_src = 1206\n",
        "target_dst = 8734"
      ],
      "metadata": {
        "id": "jN-u-0B4lg3v"
      },
      "execution_count": 28,
      "outputs": []
    },
    {
      "cell_type": "code",
      "source": [
        "new_src = []\n",
        "new_dst = []\n",
        "new_t = []\n",
        "\n",
        "index = 0\n",
        "for i in range(data['t'].min(), data['t'].max(), step):\n",
        "  while not (i >= data['t'][index] and i < data['t'][index + 1]):\n",
        "    new_src.append(data['src'][index].item())\n",
        "    new_dst.append(data['dst'][index].item())\n",
        "    new_t.append(data['t'][index].item())\n",
        "    index += 1\n",
        "\n",
        "  new_src.append(data['src'][index].item())\n",
        "  new_dst.append(data['dst'][index].item())\n",
        "  new_t.append(data['t'][index].item())\n",
        "\n",
        "  # print(target_src, target_dst, i)\n",
        "  new_src.append(target_src)\n",
        "  new_dst.append(target_dst)\n",
        "  new_t.append(i)\n",
        "  index += 1"
      ],
      "metadata": {
        "id": "BZfQq7ZtkzAL"
      },
      "execution_count": 33,
      "outputs": []
    },
    {
      "cell_type": "code",
      "source": [
        "len(new_src), len(data['src'])"
      ],
      "metadata": {
        "colab": {
          "base_uri": "https://localhost:8080/"
        },
        "id": "Z1qe2sZYn7uD",
        "outputId": "425901ef-625d-451b-87f5-66b116e79fca"
      },
      "execution_count": 34,
      "outputs": [
        {
          "output_type": "execute_result",
          "data": {
            "text/plain": [
              "(24620, 23621)"
            ]
          },
          "metadata": {},
          "execution_count": 34
        }
      ]
    },
    {
      "cell_type": "code",
      "source": [
        "new_src"
      ],
      "metadata": {
        "colab": {
          "base_uri": "https://localhost:8080/"
        },
        "id": "L6thRDVVXela",
        "outputId": "8addac08-d5ff-4e83-eaf7-fe83ae8467ac"
      },
      "execution_count": 31,
      "outputs": [
        {
          "output_type": "execute_result",
          "data": {
            "text/plain": [
              "[3173,\n",
              " 1206,\n",
              " 7326,\n",
              " 7325,\n",
              " 2846,\n",
              " 5622,\n",
              " 5946,\n",
              " 7326,\n",
              " 5946,\n",
              " 6545,\n",
              " 17,\n",
              " 5577,\n",
              " 3200,\n",
              " 775,\n",
              " 6747,\n",
              " 959,\n",
              " 775,\n",
              " 6545,\n",
              " 6293,\n",
              " 5397,\n",
              " 6862,\n",
              " 775,\n",
              " 5577,\n",
              " 4841,\n",
              " 7326,\n",
              " 5522,\n",
              " 3173,\n",
              " 7326,\n",
              " 5577,\n",
              " 5577,\n",
              " 2394,\n",
              " 7326,\n",
              " 802,\n",
              " 7326,\n",
              " 7326,\n",
              " 1082,\n",
              " 1206,\n",
              " 775,\n",
              " 6747,\n",
              " 5577,\n",
              " 6747,\n",
              " 7326,\n",
              " 3404,\n",
              " 6747,\n",
              " 7327,\n",
              " 775,\n",
              " 6293,\n",
              " 6862,\n",
              " 1082,\n",
              " 775,\n",
              " 353,\n",
              " 3072,\n",
              " 6747,\n",
              " 6248,\n",
              " 7326,\n",
              " 6747,\n",
              " 6747,\n",
              " 6862,\n",
              " 1082,\n",
              " 17,\n",
              " 178,\n",
              " 7326,\n",
              " 6747,\n",
              " 349,\n",
              " 775,\n",
              " 401,\n",
              " 3474,\n",
              " 7328,\n",
              " 353,\n",
              " 1860,\n",
              " 4225,\n",
              " 3070,\n",
              " 775,\n",
              " 3420,\n",
              " 178,\n",
              " 4225,\n",
              " 353,\n",
              " 1680,\n",
              " 2196,\n",
              " 1082,\n",
              " 3420,\n",
              " 5577,\n",
              " 2846,\n",
              " 1082,\n",
              " 2196,\n",
              " 4225,\n",
              " 802,\n",
              " 1206,\n",
              " 3173,\n",
              " 4225,\n",
              " 6747,\n",
              " 6862,\n",
              " 3491,\n",
              " 7234,\n",
              " 775,\n",
              " 6862,\n",
              " 366,\n",
              " 3404,\n",
              " 4225,\n",
              " 2196,\n",
              " 178,\n",
              " 2846,\n",
              " 366,\n",
              " 1680,\n",
              " 7329,\n",
              " 2196,\n",
              " 3173,\n",
              " 353,\n",
              " 5552,\n",
              " 2777,\n",
              " 2697,\n",
              " 6747,\n",
              " 366,\n",
              " 2196,\n",
              " 7321,\n",
              " 7330,\n",
              " 4225,\n",
              " 6747,\n",
              " 775,\n",
              " 2777,\n",
              " 4225,\n",
              " 524,\n",
              " 1071,\n",
              " 2196,\n",
              " 3091,\n",
              " 6747,\n",
              " 3491,\n",
              " 2394,\n",
              " 4225,\n",
              " 524,\n",
              " 400,\n",
              " 6747,\n",
              " 1680,\n",
              " 400,\n",
              " 448,\n",
              " 3491,\n",
              " 400,\n",
              " 1250,\n",
              " 1206,\n",
              " 7276,\n",
              " 3404,\n",
              " 1250,\n",
              " 2196,\n",
              " 4225,\n",
              " 2777,\n",
              " 2294,\n",
              " 5577,\n",
              " 6736,\n",
              " 366,\n",
              " 2196,\n",
              " 948,\n",
              " 2777,\n",
              " 420,\n",
              " 2394,\n",
              " 1680,\n",
              " 6736,\n",
              " 2196,\n",
              " 1001,\n",
              " 4225,\n",
              " 641,\n",
              " 2196,\n",
              " 2394,\n",
              " 420,\n",
              " 7331,\n",
              " 3404,\n",
              " 4225,\n",
              " 6736,\n",
              " 1250,\n",
              " 2196,\n",
              " 7276,\n",
              " 2196,\n",
              " 524,\n",
              " 5397,\n",
              " 6491,\n",
              " 17,\n",
              " 2196,\n",
              " 3491,\n",
              " 6530,\n",
              " 4225,\n",
              " 2196,\n",
              " 3129,\n",
              " 1325,\n",
              " 1001,\n",
              " 1206,\n",
              " 2196,\n",
              " 1082,\n",
              " 2196,\n",
              " 2196,\n",
              " 1250,\n",
              " 2196,\n",
              " 963,\n",
              " 1001,\n",
              " 7323,\n",
              " 2196,\n",
              " 2394,\n",
              " 7332,\n",
              " 2246,\n",
              " 2246,\n",
              " 7333,\n",
              " 3046,\n",
              " 4491,\n",
              " 205,\n",
              " 2196,\n",
              " 959,\n",
              " 6545,\n",
              " 959,\n",
              " 802,\n",
              " 2196,\n",
              " 2196,\n",
              " 7323,\n",
              " 2196,\n",
              " 3046,\n",
              " 4225,\n",
              " 1250,\n",
              " 400,\n",
              " 3404,\n",
              " 205,\n",
              " 4490,\n",
              " 2294,\n",
              " 3046,\n",
              " 1250,\n",
              " 948,\n",
              " 17,\n",
              " 4490,\n",
              " 959,\n",
              " 1680,\n",
              " 1206,\n",
              " 7334,\n",
              " 461,\n",
              " 205,\n",
              " 2846,\n",
              " 6545,\n",
              " 3404,\n",
              " 6491,\n",
              " 2166,\n",
              " 1881,\n",
              " 1680,\n",
              " 6491,\n",
              " 7264,\n",
              " 745,\n",
              " 2166,\n",
              " 3404,\n",
              " 1881,\n",
              " 802,\n",
              " 6862,\n",
              " 7335,\n",
              " 7336,\n",
              " 1250,\n",
              " 555,\n",
              " 5248,\n",
              " 1881,\n",
              " 1680,\n",
              " 3114,\n",
              " 6545,\n",
              " 1881,\n",
              " 745,\n",
              " 7276,\n",
              " 1218,\n",
              " 802,\n",
              " 1250,\n",
              " 4225,\n",
              " 1206,\n",
              " 1250,\n",
              " 1680,\n",
              " 1881,\n",
              " 2196,\n",
              " 2166,\n",
              " 2517,\n",
              " 1680,\n",
              " 1082,\n",
              " 4225,\n",
              " 400,\n",
              " 461,\n",
              " 1881,\n",
              " 4225,\n",
              " 6128,\n",
              " 1082,\n",
              " 1680,\n",
              " 5248,\n",
              " 1881,\n",
              " 2846,\n",
              " 4225,\n",
              " 3909,\n",
              " 4225,\n",
              " 461,\n",
              " 6537,\n",
              " 400,\n",
              " 1881,\n",
              " 6862,\n",
              " 7252,\n",
              " 7337,\n",
              " 4225,\n",
              " 1881,\n",
              " 5248,\n",
              " 461,\n",
              " 3173,\n",
              " 4480,\n",
              " 1206,\n",
              " 2394,\n",
              " 6293,\n",
              " 205,\n",
              " 658,\n",
              " 2846,\n",
              " 311,\n",
              " 1881,\n",
              " 177,\n",
              " 2394,\n",
              " 1881,\n",
              " 4100,\n",
              " 658,\n",
              " 461,\n",
              " 802,\n",
              " 3628,\n",
              " 3436,\n",
              " 5248,\n",
              " 311,\n",
              " 461,\n",
              " 6545,\n",
              " 3436,\n",
              " 6293,\n",
              " 2753,\n",
              " 3436,\n",
              " 384,\n",
              " 319,\n",
              " 2394,\n",
              " 1250,\n",
              " 7337,\n",
              " 7338,\n",
              " 1250,\n",
              " 6128,\n",
              " 428,\n",
              " 1206,\n",
              " 142,\n",
              " 364,\n",
              " 1202,\n",
              " 311,\n",
              " 6862,\n",
              " 6609,\n",
              " 1647,\n",
              " 6128,\n",
              " 1647,\n",
              " 428,\n",
              " 3046,\n",
              " 2846,\n",
              " 1647,\n",
              " 461,\n",
              " 1082,\n",
              " 1647,\n",
              " 2846,\n",
              " 311,\n",
              " 1250,\n",
              " 205,\n",
              " 2846,\n",
              " 651,\n",
              " 2846,\n",
              " 3491,\n",
              " 411,\n",
              " 428,\n",
              " 5248,\n",
              " 6128,\n",
              " 4100,\n",
              " 6736,\n",
              " 6862,\n",
              " 1647,\n",
              " 205,\n",
              " 2846,\n",
              " 7339,\n",
              " 7340,\n",
              " 205,\n",
              " 1647,\n",
              " 6128,\n",
              " 5248,\n",
              " 1206,\n",
              " 6609,\n",
              " 1348,\n",
              " 205,\n",
              " 7341,\n",
              " 6128,\n",
              " 171,\n",
              " 1348,\n",
              " 5299,\n",
              " 1082,\n",
              " 6103,\n",
              " 7341,\n",
              " 142,\n",
              " 2846,\n",
              " 1823,\n",
              " 871,\n",
              " 364,\n",
              " 2846,\n",
              " 4578,\n",
              " 1647,\n",
              " 1680,\n",
              " 4841,\n",
              " 15,\n",
              " 5248,\n",
              " 364,\n",
              " 311,\n",
              " 2068,\n",
              " 2825,\n",
              " 171,\n",
              " 2825,\n",
              " 205,\n",
              " 1206,\n",
              " 2746,\n",
              " 15,\n",
              " 7342,\n",
              " 871,\n",
              " 1800,\n",
              " 142,\n",
              " 559,\n",
              " 364,\n",
              " 80,\n",
              " 1791,\n",
              " 2394,\n",
              " 2595,\n",
              " 7343,\n",
              " 5415,\n",
              " 17,\n",
              " 1680,\n",
              " 400,\n",
              " 2394,\n",
              " 400,\n",
              " 4304,\n",
              " 6914,\n",
              " 6293,\n",
              " 400,\n",
              " 400,\n",
              " 205,\n",
              " 7344,\n",
              " 6545,\n",
              " 80,\n",
              " 7343,\n",
              " 411,\n",
              " 6128,\n",
              " 461,\n",
              " 1632,\n",
              " 6128,\n",
              " 3880,\n",
              " 1197,\n",
              " 1206,\n",
              " 6128,\n",
              " 205,\n",
              " 142,\n",
              " 400,\n",
              " 2068,\n",
              " 490,\n",
              " 2579,\n",
              " 6128,\n",
              " 6768,\n",
              " 4844,\n",
              " 2000,\n",
              " 2068,\n",
              " 2394,\n",
              " 3173,\n",
              " 552,\n",
              " 1680,\n",
              " 7345,\n",
              " 5248,\n",
              " 71,\n",
              " 1647,\n",
              " 1325,\n",
              " 142,\n",
              " 6338,\n",
              " 6128,\n",
              " 71,\n",
              " 142,\n",
              " 1916,\n",
              " 552,\n",
              " 1647,\n",
              " 552,\n",
              " 1680,\n",
              " 205,\n",
              " 6768,\n",
              " 411,\n",
              " 7306,\n",
              " 142,\n",
              " 948,\n",
              " 1206,\n",
              " 6622,\n",
              " 552,\n",
              " 2394,\n",
              " 2846,\n",
              " 56,\n",
              " 2000,\n",
              " 4786,\n",
              " 5248,\n",
              " 6768,\n",
              " 4786,\n",
              " 2000,\n",
              " 6338,\n",
              " 119,\n",
              " 4786,\n",
              " 552,\n",
              " 7346,\n",
              " 4786,\n",
              " 6752,\n",
              " 205,\n",
              " 2000,\n",
              " 242,\n",
              " 2134,\n",
              " 4786,\n",
              " 119,\n",
              " 5320,\n",
              " 7347,\n",
              " 2134,\n",
              " 1244,\n",
              " 5415,\n",
              " 5320,\n",
              " 2134,\n",
              " 4786,\n",
              " 3173,\n",
              " 6752,\n",
              " 1492,\n",
              " 142,\n",
              " 6748,\n",
              " 4786,\n",
              " 3173,\n",
              " 512,\n",
              " 142,\n",
              " 5320,\n",
              " 205,\n",
              " 311,\n",
              " 411,\n",
              " 1206,\n",
              " 142,\n",
              " 411,\n",
              " 429,\n",
              " 311,\n",
              " 4786,\n",
              " 5037,\n",
              " 5320,\n",
              " 5299,\n",
              " 2898,\n",
              " 7348,\n",
              " 1364,\n",
              " 4786,\n",
              " 6714,\n",
              " 411,\n",
              " 4521,\n",
              " 1364,\n",
              " 443,\n",
              " 445,\n",
              " 142,\n",
              " 7349,\n",
              " 5467,\n",
              " 411,\n",
              " 400,\n",
              " 400,\n",
              " 475,\n",
              " 948,\n",
              " 5320,\n",
              " 443,\n",
              " 1206,\n",
              " 6768,\n",
              " 6100,\n",
              " 1111,\n",
              " 7350,\n",
              " 7351,\n",
              " 5299,\n",
              " 475,\n",
              " 5320,\n",
              " 498,\n",
              " 6748,\n",
              " 921,\n",
              " 429,\n",
              " 7352,\n",
              " 6768,\n",
              " 5320,\n",
              " 2394,\n",
              " 1916,\n",
              " 6748,\n",
              " 498,\n",
              " 429,\n",
              " 7353,\n",
              " 6768,\n",
              " 1206,\n",
              " 1791,\n",
              " 7354,\n",
              " 440,\n",
              " 2240,\n",
              " 119,\n",
              " 6768,\n",
              " 342,\n",
              " 429,\n",
              " 5299,\n",
              " 2962,\n",
              " 17,\n",
              " 1111,\n",
              " 1364,\n",
              " 5320,\n",
              " 342,\n",
              " 7355,\n",
              " 3173,\n",
              " 1111,\n",
              " 1111,\n",
              " 2746,\n",
              " 6768,\n",
              " 104,\n",
              " 1364,\n",
              " 2746,\n",
              " 119,\n",
              " 104,\n",
              " 994,\n",
              " 370,\n",
              " 5320,\n",
              " 2846,\n",
              " 2394,\n",
              " 1647,\n",
              " 1206,\n",
              " 6748,\n",
              " 5320,\n",
              " 142,\n",
              " 104,\n",
              " 142,\n",
              " 994,\n",
              " 104,\n",
              " 7356,\n",
              " 6736,\n",
              " 3491,\n",
              " 2777,\n",
              " 7357,\n",
              " 994,\n",
              " 3491,\n",
              " 2846,\n",
              " 5320,\n",
              " 56,\n",
              " 7357,\n",
              " 7142,\n",
              " 5467,\n",
              " 6852,\n",
              " 142,\n",
              " 1647,\n",
              " 6768,\n",
              " 994,\n",
              " 1647,\n",
              " 7357,\n",
              " 7358,\n",
              " 994,\n",
              " 6852,\n",
              " 1206,\n",
              " 2769,\n",
              " 2076,\n",
              " 2825,\n",
              " 2769,\n",
              " 6128,\n",
              " 5467,\n",
              " 7358,\n",
              " 142,\n",
              " 1060,\n",
              " 963,\n",
              " 2825,\n",
              " 142,\n",
              " 497,\n",
              " 1885,\n",
              " 2788,\n",
              " 6852,\n",
              " 1647,\n",
              " 963,\n",
              " 3884,\n",
              " 6852,\n",
              " 2825,\n",
              " 346,\n",
              " 142,\n",
              " 1779,\n",
              " 2825,\n",
              " 3483,\n",
              " 1218,\n",
              " 177,\n",
              " 7306,\n",
              " 6736,\n",
              " 13,\n",
              " 5320,\n",
              " 5979,\n",
              " 400,\n",
              " 5320,\n",
              " 6736,\n",
              " 1206,\n",
              " 13,\n",
              " 5415,\n",
              " 5979,\n",
              " 400,\n",
              " 400,\n",
              " 400,\n",
              " 1244,\n",
              " 5979,\n",
              " 5979,\n",
              " 1244,\n",
              " 6736,\n",
              " 1912,\n",
              " 732,\n",
              " 346,\n",
              " 2825,\n",
              " 5979,\n",
              " 7214,\n",
              " 2825,\n",
              " 5320,\n",
              " 3483,\n",
              " 2825,\n",
              " 7214,\n",
              " 1287,\n",
              " 6852,\n",
              " 1647,\n",
              " 402,\n",
              " 5979,\n",
              " 2825,\n",
              " 1647,\n",
              " 6852,\n",
              " 7359,\n",
              " 1206,\n",
              " 2578,\n",
              " 6734,\n",
              " 7214,\n",
              " 6852,\n",
              " 7127,\n",
              " 5467,\n",
              " 7360,\n",
              " 205,\n",
              " 5320,\n",
              " 948,\n",
              " 13,\n",
              " 1912,\n",
              " 7214,\n",
              " 400,\n",
              " 3969,\n",
              " 6562,\n",
              " 1733,\n",
              " 142,\n",
              " 2394,\n",
              " 107,\n",
              " 7358,\n",
              " 142,\n",
              " 5865,\n",
              " 2115,\n",
              " 107,\n",
              " 107,\n",
              " 7359,\n",
              " 1044,\n",
              " 142,\n",
              " 107,\n",
              " 6945,\n",
              " 1647,\n",
              " 7358,\n",
              " 6862,\n",
              " 6562,\n",
              " 107,\n",
              " 1206,\n",
              " 5962,\n",
              " 6862,\n",
              " 1738,\n",
              " 107,\n",
              " 7358,\n",
              " 7361,\n",
              " 6734,\n",
              " 6734,\n",
              " 1287,\n",
              " 270,\n",
              " 2788,\n",
              " 1984,\n",
              " 7358,\n",
              " 400,\n",
              " 2788,\n",
              " 400,\n",
              " 5632,\n",
              " 270,\n",
              " 1206,\n",
              " 7214,\n",
              " 7358,\n",
              " 2115,\n",
              " 948,\n",
              " 2020,\n",
              " 1218,\n",
              " 591,\n",
              " 1647,\n",
              " 2825,\n",
              " 346,\n",
              " 7176,\n",
              " 2863,\n",
              " 1650,\n",
              " 7214,\n",
              " 2115,\n",
              " 1650,\n",
              " 343,\n",
              " 3029,\n",
              " 400,\n",
              " 400,\n",
              " 205,\n",
              " 859,\n",
              " 5894,\n",
              " 144,\n",
              " 205,\n",
              " 384,\n",
              " 2020,\n",
              " 3969,\n",
              " 2825,\n",
              " 3029,\n",
              " 270,\n",
              " 2788,\n",
              " 2825,\n",
              " 7362,\n",
              " 1206,\n",
              " 7358,\n",
              " 7214,\n",
              " 1373,\n",
              " 7214,\n",
              " 142,\n",
              " 5894,\n",
              " 5788,\n",
              " 3029,\n",
              " 7214,\n",
              " 506,\n",
              " 7363,\n",
              " 6100,\n",
              " 142,\n",
              " 366,\n",
              " 270,\n",
              " 7062,\n",
              " 6338,\n",
              " 6100,\n",
              " 3029,\n",
              " 5894,\n",
              " 142,\n",
              " 4266,\n",
              " 7214,\n",
              " 1549,\n",
              " 270,\n",
              " 3029,\n",
              " 7214,\n",
              " 1206,\n",
              " 371,\n",
              " 3029,\n",
              " 2517,\n",
              " 371,\n",
              " 270,\n",
              " 7364,\n",
              " 7214,\n",
              " 7365,\n",
              " 3029,\n",
              " 7214,\n",
              " 2517,\n",
              " 7362,\n",
              " 411,\n",
              " 7214,\n",
              " 1916,\n",
              " 1802,\n",
              " 1802,\n",
              " 5415,\n",
              " 4683,\n",
              " 1916,\n",
              " 6610,\n",
              " 1364,\n",
              " 4538,\n",
              " 1206,\n",
              " 1722,\n",
              " 2115,\n",
              " 270,\n",
              " 7366,\n",
              " 400,\n",
              " 7367,\n",
              " 1961,\n",
              " 2654,\n",
              " 7214,\n",
              " 7214,\n",
              " 6662,\n",
              " 532,\n",
              " 512,\n",
              " 4780,\n",
              " 4780,\n",
              " 584,\n",
              " 5977,\n",
              " 142,\n",
              " 285,\n",
              " 5977,\n",
              " 2115,\n",
              " 142,\n",
              " 1975,\n",
              " 2121,\n",
              " 2115,\n",
              " 948,\n",
              " 1206,\n",
              " 646,\n",
              " 1975,\n",
              " 144,\n",
              " 7362,\n",
              " 1364,\n",
              " 7297,\n",
              " 7368,\n",
              " 2252,\n",
              " 717,\n",
              " 2252,\n",
              " 1916,\n",
              " 1364,\n",
              " 45,\n",
              " 2115,\n",
              " 512,\n",
              " 2788,\n",
              " 2115,\n",
              " 512,\n",
              " 4779,\n",
              " 5977,\n",
              " 2115,\n",
              " 142,\n",
              " 512,\n",
              " 7214,\n",
              " 512,\n",
              " 7362,\n",
              " 512,\n",
              " 584,\n",
              " 5894,\n",
              " 512,\n",
              " 7369,\n",
              " 584,\n",
              " 442,\n",
              " 476,\n",
              " 512,\n",
              " 7362,\n",
              " 1916,\n",
              " 3992,\n",
              " 2746,\n",
              " 1647,\n",
              " 7370,\n",
              " 948,\n",
              " 5894,\n",
              " 512,\n",
              " 7362,\n",
              " 1206,\n",
              " 2115,\n",
              " 7371,\n",
              " 7370,\n",
              " 142,\n",
              " 5415,\n",
              " 1364,\n",
              " 512,\n",
              " 5977,\n",
              " 1802,\n",
              " 6081,\n",
              " 5995,\n",
              " 5415,\n",
              " 732,\n",
              " 7362,\n",
              " 1802,\n",
              " 1334,\n",
              " 5977,\n",
              " 512,\n",
              " 7371,\n",
              " 1082,\n",
              " 601,\n",
              " 366,\n",
              " 1916,\n",
              " 2962,\n",
              " 2134,\n",
              " 142,\n",
              " 1364,\n",
              " 6752,\n",
              " 1381,\n",
              " 2134,\n",
              " 142,\n",
              " 5977,\n",
              " 443,\n",
              " 4266,\n",
              " 2134,\n",
              " 68,\n",
              " 2746,\n",
              " 1722,\n",
              " 5894,\n",
              " 1334,\n",
              " 2846,\n",
              " 5894,\n",
              " 646,\n",
              " 7372,\n",
              " 6862,\n",
              " 775,\n",
              " 1206,\n",
              " 5977,\n",
              " 5962,\n",
              " 311,\n",
              " 2134,\n",
              " 4,\n",
              " 5415,\n",
              " 7369,\n",
              " 5894,\n",
              " 7369,\n",
              " 5415,\n",
              " 1802,\n",
              " 4266,\n",
              " 2537,\n",
              " 2846,\n",
              " 4866,\n",
              " 5415,\n",
              " 4266,\n",
              " 16,\n",
              " 7373,\n",
              " 7374,\n",
              " 6862,\n",
              " 5894,\n",
              " 6862,\n",
              " 443,\n",
              " 342,\n",
              " 7375,\n",
              " 7376,\n",
              " ...]"
            ]
          },
          "metadata": {},
          "execution_count": 31
        }
      ]
    },
    {
      "cell_type": "code",
      "source": [
        "data['src'] = torch.tensor(new_src)\n",
        "data['dst'] = torch.tensor(new_dst)\n",
        "data['t'] = torch.tensor(new_t)"
      ],
      "metadata": {
        "id": "CWlB11q_oopr"
      },
      "execution_count": 253,
      "outputs": []
    },
    {
      "cell_type": "code",
      "source": [
        "pair_cnt = {}\n",
        "\n",
        "for source, dest in zip(data['src'], data['dst']):\n",
        "  pair = (source.item(), dest.item())\n",
        "  if pair in pair_cnt:\n",
        "    pair_cnt[pair] += 1\n",
        "  else:\n",
        "    pair_cnt[pair] = 1"
      ],
      "metadata": {
        "id": "7RX60PMNpuE6"
      },
      "execution_count": 254,
      "outputs": []
    },
    {
      "cell_type": "code",
      "source": [
        "sorted_pair_cnt = dict(sorted(pair_cnt.items(), key=lambda item: -1 * item[1]))"
      ],
      "metadata": {
        "id": "nhskc9sOqqpo"
      },
      "execution_count": 255,
      "outputs": []
    },
    {
      "cell_type": "code",
      "source": [
        "counter = 0\n",
        "for pair, cnt in sorted_pair_cnt.items():\n",
        "  print(pair, cnt)\n",
        "  counter += 1"
      ],
      "metadata": {
        "colab": {
          "base_uri": "https://localhost:8080/",
          "height": 228
        },
        "id": "yMvUcSSiqrNG",
        "outputId": "40f851d2-7a54-496d-a836-99e28ab06133"
      },
      "execution_count": 50,
      "outputs": [
        {
          "output_type": "error",
          "ename": "NameError",
          "evalue": "name 'sorted_pair_cnt' is not defined",
          "traceback": [
            "\u001b[0;31m---------------------------------------------------------------------------\u001b[0m",
            "\u001b[0;31mNameError\u001b[0m                                 Traceback (most recent call last)",
            "\u001b[0;32m<ipython-input-50-796fa01e745e>\u001b[0m in \u001b[0;36m<cell line: 2>\u001b[0;34m()\u001b[0m\n\u001b[1;32m      1\u001b[0m \u001b[0mcounter\u001b[0m \u001b[0;34m=\u001b[0m \u001b[0;36m0\u001b[0m\u001b[0;34m\u001b[0m\u001b[0;34m\u001b[0m\u001b[0m\n\u001b[0;32m----> 2\u001b[0;31m \u001b[0;32mfor\u001b[0m \u001b[0mpair\u001b[0m\u001b[0;34m,\u001b[0m \u001b[0mcnt\u001b[0m \u001b[0;32min\u001b[0m \u001b[0msorted_pair_cnt\u001b[0m\u001b[0;34m.\u001b[0m\u001b[0mitems\u001b[0m\u001b[0;34m(\u001b[0m\u001b[0;34m)\u001b[0m\u001b[0;34m:\u001b[0m\u001b[0;34m\u001b[0m\u001b[0;34m\u001b[0m\u001b[0m\n\u001b[0m\u001b[1;32m      3\u001b[0m   \u001b[0mprint\u001b[0m\u001b[0;34m(\u001b[0m\u001b[0mpair\u001b[0m\u001b[0;34m,\u001b[0m \u001b[0mcnt\u001b[0m\u001b[0;34m)\u001b[0m\u001b[0;34m\u001b[0m\u001b[0;34m\u001b[0m\u001b[0m\n\u001b[1;32m      4\u001b[0m   \u001b[0mcounter\u001b[0m \u001b[0;34m+=\u001b[0m \u001b[0;36m1\u001b[0m\u001b[0;34m\u001b[0m\u001b[0;34m\u001b[0m\u001b[0m\n",
            "\u001b[0;31mNameError\u001b[0m: name 'sorted_pair_cnt' is not defined"
          ]
        }
      ]
    },
    {
      "cell_type": "code",
      "source": [
        "max(pair_cnt.values())"
      ],
      "metadata": {
        "colab": {
          "base_uri": "https://localhost:8080/"
        },
        "id": "QJIcfbCWZsJ5",
        "outputId": "f5fee5dd-6c05-4087-97ce-7abc654330d6"
      },
      "execution_count": 257,
      "outputs": [
        {
          "output_type": "execute_result",
          "data": {
            "text/plain": [
              "1043"
            ]
          },
          "metadata": {},
          "execution_count": 257
        }
      ]
    },
    {
      "cell_type": "code",
      "source": [
        "first_pair, cnt = next(iter(sorted_pair_cnt.items()))\n",
        "first_pair, cnt"
      ],
      "metadata": {
        "colab": {
          "base_uri": "https://localhost:8080/"
        },
        "id": "A9LytUJQrasI",
        "outputId": "fcaeebc7-afd9-41a6-cf2a-6dc5e80e9d9d"
      },
      "execution_count": 258,
      "outputs": [
        {
          "output_type": "execute_result",
          "data": {
            "text/plain": [
              "((1206, 8734), 1043)"
            ]
          },
          "metadata": {},
          "execution_count": 258
        }
      ]
    },
    {
      "cell_type": "code",
      "source": [
        "def get_timestamps(data, pair):\n",
        "  timestamps = []\n",
        "  for source, dest, timestamp in zip(data['sources'], data['destinations'], data['timestamps']):\n",
        "    if source == pair[0] and dest == pair[1]:\n",
        "      timestamps.append(timestamp)\n",
        "  return timestamps"
      ],
      "metadata": {
        "id": "LpXgMky_q-LL"
      },
      "execution_count": 27,
      "outputs": []
    },
    {
      "cell_type": "code",
      "source": [
        "timestamps = get_timestamps(data, first_pair)\n",
        "len(timestamps)"
      ],
      "metadata": {
        "colab": {
          "base_uri": "https://localhost:8080/"
        },
        "id": "-8oz0jk5rYH4",
        "outputId": "c9b8362b-94ee-4efb-8a18-aa48bca6310a"
      },
      "execution_count": 30,
      "outputs": [
        {
          "output_type": "execute_result",
          "data": {
            "text/plain": [
              "1161"
            ]
          },
          "metadata": {},
          "execution_count": 30
        }
      ]
    },
    {
      "cell_type": "code",
      "source": [
        "timestamps[10]"
      ],
      "metadata": {
        "colab": {
          "base_uri": "https://localhost:8080/"
        },
        "id": "q59Qh81ZrvQb",
        "outputId": "879c3e75-249c-4df2-97b4-8c6526bb700d"
      },
      "execution_count": 35,
      "outputs": [
        {
          "output_type": "execute_result",
          "data": {
            "text/plain": [
              "23568.0"
            ]
          },
          "metadata": {},
          "execution_count": 35
        }
      ]
    },
    {
      "cell_type": "code",
      "source": [
        "from matplotlib import pyplot as plt\n",
        "\n",
        "plt.plot(timestamps)"
      ],
      "metadata": {
        "colab": {
          "base_uri": "https://localhost:8080/",
          "height": 462
        },
        "id": "0fqqRmGVri4u",
        "outputId": "ed0a4fc0-a510-4787-c0d7-3e5397cfdb26"
      },
      "execution_count": 31,
      "outputs": [
        {
          "output_type": "execute_result",
          "data": {
            "text/plain": [
              "[<matplotlib.lines.Line2D at 0x7e017caac880>]"
            ]
          },
          "metadata": {},
          "execution_count": 31
        },
        {
          "output_type": "display_data",
          "data": {
            "text/plain": [
              "<Figure size 640x480 with 1 Axes>"
            ],
            "image/png": "[encoded data removed]"
          },
          "metadata": {}
        }
      ]
    },
    {
      "cell_type": "code",
      "source": [
        "pair = first_pair\n",
        "pair"
      ],
      "metadata": {
        "colab": {
          "base_uri": "https://localhost:8080/"
        },
        "id": "3a2gB8MQrghG",
        "outputId": "0dc442a7-2625-4278-acd5-49e5693dcc31"
      },
      "execution_count": 54,
      "outputs": [
        {
          "output_type": "execute_result",
          "data": {
            "text/plain": [
              "(134, 8340)"
            ]
          },
          "metadata": {},
          "execution_count": 54
        }
      ]
    },
    {
      "cell_type": "code",
      "source": [
        "sources = []\n",
        "destinations = []\n",
        "timestamps = []\n",
        "for source, dest, timestamp in zip(data['sources'], data['destinations'], data['timestamps']):\n",
        "  if source == pair[0] and dest == pair[1]:\n",
        "    timestamps.append(timestamp)\n",
        "    sources.append(source)\n",
        "    destinations.append(source)\n",
        "\n",
        "# sources = np.array(sources)\n",
        "# destinations = np.array(destinations)\n",
        "# timestamps = np.array(timestamps)"
      ],
      "metadata": {
        "id": "-0fjBcYn5ul7"
      },
      "execution_count": 61,
      "outputs": []
    },
    {
      "cell_type": "code",
      "source": [
        "str(sources)"
      ],
      "metadata": {
        "colab": {
          "base_uri": "https://localhost:8080/",
          "height": 105
        },
        "id": "KXpqtbRXVfk1",
        "outputId": "2b278d39-46e8-4380-edb2-68a816683440"
      },
      "execution_count": 65,
      "outputs": [
        {
          "output_type": "execute_result",
          "data": {
            "text/plain": [
              "'[134, 134, 134, 134, 134, 134, 134, 134, 134, 134, 134, 134, 134, 134, 134, 134, 134, 134, 134, 134, 134, 134, 134, 134, 134, 134, 134, 134, 134, 134, 134, 134, 134, 134, 134, 134, 134, 134, 134, 134, 134, 134, 134, 134, 134, 134, 134, 134, 134, 134, 134, 134, 134, 134, 134, 134, 134, 134, 134, 134, 134, 134, 134, 134, 134, 134, 134, 134, 134, 134, 134, 134, 134, 134, 134, 134, 134, 134, 134, 134, 134, 134, 134, 134, 134, 134, 134, 134, 134, 134, 134, 134, 134, 134, 134, 134, 134, 134, 134, 134, 134, 134, 134, 134, 134, 134, 134, 134, 134, 134, 134, 134, 134, 134, 134, 134, 134, 134, 134, 134, 134, 134, 134, 134, 134, 134, 134, 134, 134, 134, 134, 134, 134, 134, 134, 134, 134, 134, 134, 134, 134, 134, 134, 134, 134, 134, 134, 134, 134, 134, 134, 134, 134, 134, 134, 134, 134, 134, 134, 134, 134, 134, 134, 134, 134, 134, 134, 134, 134, 134, 134, 134, 134, 134, 134, 134, 134, 134, 134, 134, 134, 134, 134, 134, 134, 134, 134, 134, 134, 134, 134, 134, 134, 134, 134, 134, 134, 134, 134, 134, 134, 134, 134, 134, 134, 134, 134, 134, 134, 134, 134, 134, 134, 134, 134, 134, 134, 134, 134, 134, 134, 134, 134, 134, 134, 134, 134, 134, 134, 134, 134, 134, 134, 134, 134, 134, 134, 134, 134, 134, 134, 134, 134, 134, 134, 134, 134, 134, 134, 134, 134, 134, 134, 134, 134, 134, 134, 134, 134, 134, 134, 134, 134, 134, 134, 134, 134, 134, 134, 134, 134, 134, 134, 134, 134, 134, 134, 134, 134, 134, 134, 134, 134, 134, 134, 134, 134, 134, 134, 134, 134, 134, 134, 134, 134, 134, 134, 134, 134, 134, 134, 134, 134, 134, 134, 134, 134, 134, 134, 134, 134, 134, 134, 134, 134, 134, 134, 134, 134, 134, 134, 134, 134, 134, 134, 134, 134, 134, 134, 134, 134, 134, 134, 134, 134, 134, 134, 134, 134, 134, 134, 134, 134, 134, 134, 134, 134, 134, 134, 134, 134, 134, 134, 134, 134, 134, 134, 134, 134, 134, 134, 134, 134, 134, 134, 134, 134, 134, 134, 134, 134, 134, 134, 134, 134, 134, 134, 134, 134, 134, 134, 134, 134, 134, 134, 134, 134, 134, 134, 134, 134, 134, 134, 134, 134, 134, 134, 134, 134, 134, 134, 134, 134, 134, 134, 134, 134, 134, 134, 134, 134, 134, 134, 134, 134, 134, 134, 134, 134, 134, 134, 134, 134, 134, 134, 134, 134, 134, 134, 134, 134, 134, 134, 134, 134, 134, 134, 134, 134, 134, 134, 134, 134, 134, 134, 134, 134, 134, 134, 134, 134, 134, 134, 134, 134, 134, 134, 134, 134, 134, 134, 134, 134, 134, 134, 134, 134, 134, 134, 134, 134, 134, 134, 134, 134, 134, 134, 134, 134, 134, 134, 134, 134, 134, 134, 134, 134, 134, 134, 134, 134, 134, 134, 134, 134, 134, 134, 134, 134, 134, 134, 134, 134, 134, 134, 134, 134, 134, 134, 134, 134, 134, 134, 134, 134, 134, 134, 134, 134, 134, 134, 134, 134, 134, 134, 134, 134, 134, 134, 134, 134, 134, 134, 134, 134, 134, 134, 134, 134, 134, 134, 134, 134, 134, 134, 134, 134, 134, 134, 134, 134, 134, 134, 134, 134, 134, 134, 134, 134, 134, 134, 134, 134, 134, 134, 134, 134, 134, 134, 134, 134, 134, 134, 134, 134, 134, 134, 134, 134, 134, 134, 134, 134, 134, 134, 134, 134, 134, 134, 134, 134, 134, 134, 134, 134, 134, 134, 134, 134, 134, 134, 134, 134, 134, 134, 134, 134, 134, 134, 134, 134, 134, 134, 134, 134, 134, 134, 134, 134, 134, 134, 134, 134, 134, 134, 134, 134, 134, 134, 134, 134, 134, 134, 134, 134, 134, 134, 134, 134, 134, 134, 134, 134, 134, 134, 134, 134, 134, 134, 134, 134, 134, 134, 134, 134, 134, 134, 134, 134, 134, 134, 134, 134, 134, 134, 134, 134, 134, 134, 134, 134, 134, 134, 134, 134, 134, 134, 134, 134, 134, 134, 134, 134, 134, 134, 134, 134, 134, 134, 134, 134, 134, 134, 134, 134, 134, 134, 134, 134, 134, 134, 134, 134, 134, 134, 134, 134, 134, 134, 134, 134, 134, 134, 134, 134, 134, 134, 134, 134, 134, 134, 134, 134, 134, 134, 134, 134, 134, 134, 134, 134, 134, 134, 134, 134, 134, 134, 134, 134, 134, 134, 134, 134, 134, 134, 134, 134, 134, 134, 134, 134, 134, 134, 134, 134, 134, 134, 134, 134, 134, 134, 134, 134, 134, 134, 134, 134, 134, 134, 134, 134, 134, 134, 134, 134, 134, 134, 134, 134, 134, 134, 134, 134, 134, 134, 134, 134, 134, 134, 134, 134, 134, 134, 134, 134, 134, 134, 134, 134, 134, 134, 134, 134, 134, 134, 134, 134, 134, 134, 134, 134, 134, 134, 134, 134, 134, 134, 134, 134, 134, 134, 134, 134, 134, 134, 134, 134, 134, 134, 134, 134, 134, 134, 134, 134, 134, 134, 134, 134, 134, 134, 134, 134, 134, 134, 134, 134, 134, 134, 134, 134, 134, 134, 134, 134, 134, 134, 134, 134, 134, 134, 134, 134, 134, 134, 134, 134, 134, 134, 134, 134, 134, 134, 134, 134, 134, 134, 134, 134, 134, 134, 134, 134, 134, 134, 134, 134, 134, 134, 134, 134, 134, 134, 134, 134, 134, 134, 134, 134, 134, 134, 134, 134, 134, 134, 134, 134, 134, 134, 134, 134, 134, 134, 134, 134, 134, 134, 134, 134, 134, 134, 134, 134, 134, 134, 134, 134, 134, 134, 134, 134, 134, 134, 134, 134, 134, 134, 134, 134, 134, 134, 134, 134, 134, 134, 134, 134, 134, 134, 134, 134, 134, 134, 134, 134, 134, 134, 134, 134, 134, 134, 134, 134, 134, 134, 134, 134, 134, 134, 134, 134, 134, 134, 134, 134, 134, 134, 134, 134, 134, 134, 134, 134, 134, 134, 134, 134, 134, 134, 134, 134, 134, 134, 134, 134, 134, 134, 134, 134, 134, 134, 134, 134, 134, 134, 134, 134, 134, 134, 134, 134, 134, 134, 134, 134, 134, 134, 134, 134, 134, 134, 134, 134, 134, 134, 134, 134, 134, 134, 134, 134, 134, 134, 134, 134, 134, 134, 134, 134, 134, 134, 134, 134, 134, 134, 134, 134, 134, 134, 134, 134, 134, 134, 134, 134, 134, 134, 134, 134, 134, 134, 134, 134, 134, 134, 134, 134, 134, 134, 134, 134, 134, 134, 134, 134, 134, 134, 134, 134, 134, 134, 134, 134, 134, 134, 134, 134, 134, 134, 134, 134, 134, 134, 134, 134, 134, 134, 134, 134, 134, 134, 134, 134, 134, 134, 134, 134, 134, 134, 134, 134, 134, 134, 134, 134, 134, 134, 134, 134, 134, 134, 134, 134, 134, 134, 134, 134, 134, 134, 134, 134, 134, 134, 134, 134, 134, 134, 134, 134, 134, 134, 134, 134, 134, 134, 134, 134, 134, 134, 134, 134, 134, 134, 134, 134, 134, 134, 134, 134, 134, 134]'"
            ],
            "application/vnd.google.colaboratory.intrinsic+json": {
              "type": "string"
            }
          },
          "metadata": {},
          "execution_count": 65
        }
      ]
    },
    {
      "cell_type": "code",
      "source": [
        "str(timestamps)"
      ],
      "metadata": {
        "colab": {
          "base_uri": "https://localhost:8080/",
          "height": 105
        },
        "id": "CWPRdHP3VShL",
        "outputId": "4bb217ac-2299-40f8-bfd2-30f528b92d2e"
      },
      "execution_count": 64,
      "outputs": [
        {
          "output_type": "execute_result",
          "data": {
            "text/plain": [
              "'[16732.0, 16919.0, 17086.0, 17136.0, 20869.0, 22345.0, 22373.0, 22993.0, 23510.0, 23538.0, 23568.0, 23625.0, 23644.0, 191708.0, 191904.0, 191993.0, 192205.0, 192299.0, 192363.0, 192428.0, 192732.0, 192912.0, 193027.0, 193584.0, 193644.0, 193690.0, 193763.0, 193841.0, 193923.0, 194008.0, 194096.0, 195093.0, 195137.0, 195424.0, 195482.0, 195601.0, 195739.0, 195873.0, 196027.0, 196183.0, 243590.0, 243661.0, 243940.0, 243983.0, 244320.0, 244703.0, 244752.0, 244811.0, 244846.0, 244911.0, 245093.0, 245184.0, 245461.0, 245541.0, 245599.0, 245859.0, 245945.0, 246087.0, 246444.0, 246611.0, 246763.0, 246955.0, 247057.0, 247505.0, 247554.0, 247583.0, 247761.0, 248026.0, 248167.0, 248727.0, 249120.0, 249710.0, 249786.0, 249885.0, 250156.0, 250184.0, 250236.0, 250310.0, 250471.0, 250521.0, 251940.0, 252627.0, 255337.0, 255385.0, 255559.0, 255983.0, 256538.0, 256602.0, 256710.0, 256788.0, 257288.0, 257475.0, 257641.0, 257734.0, 257781.0, 257944.0, 258058.0, 258284.0, 258438.0, 258723.0, 258894.0, 258952.0, 259255.0, 259305.0, 259510.0, 259651.0, 259694.0, 259732.0, 259766.0, 260170.0, 260197.0, 260988.0, 261068.0, 261602.0, 262062.0, 262151.0, 262195.0, 262845.0, 262871.0, 263631.0, 263673.0, 263751.0, 263901.0, 264281.0, 264397.0, 264923.0, 264987.0, 265733.0, 265848.0, 270562.0, 270629.0, 270711.0, 270779.0, 270832.0, 270939.0, 284386.0, 345689.0, 378481.0, 378593.0, 378696.0, 527780.0, 531459.0, 531667.0, 531732.0, 532026.0, 532565.0, 532704.0, 532802.0, 533165.0, 533199.0, 533242.0, 533366.0, 533517.0, 533743.0, 533954.0, 534019.0, 534069.0, 535529.0, 535704.0, 535733.0, 535815.0, 535857.0, 535898.0, 535985.0, 536063.0, 536149.0, 536186.0, 536835.0, 536923.0, 537417.0, 537486.0, 537501.0, 537576.0, 537655.0, 537754.0, 538066.0, 538487.0, 538802.0, 538862.0, 539050.0, 539424.0, 539604.0, 543224.0, 543339.0, 543435.0, 543475.0, 543534.0, 543889.0, 544043.0, 545873.0, 545893.0, 545946.0, 545996.0, 546049.0, 546068.0, 710891.0, 711000.0, 711516.0, 711985.0, 712053.0, 712159.0, 712304.0, 734848.0, 735479.0, 762669.0, 763717.0, 764093.0, 764456.0, 765792.0, 765939.0, 766339.0, 766391.0, 766527.0, 766903.0, 767020.0, 767049.0, 767354.0, 767707.0, 767990.0, 768050.0, 768256.0, 769860.0, 770860.0, 771049.0, 771116.0, 771276.0, 771296.0, 771487.0, 771510.0, 771541.0, 771575.0, 771657.0, 771740.0, 772994.0, 773397.0, 773640.0, 773786.0, 773839.0, 773876.0, 774408.0, 774460.0, 774721.0, 774791.0, 774859.0, 774891.0, 774941.0, 775037.0, 775074.0, 775096.0, 775203.0, 775314.0, 775429.0, 776028.0, 776106.0, 776156.0, 776323.0, 776539.0, 777476.0, 777787.0, 777853.0, 777923.0, 777966.0, 778399.0, 778452.0, 778488.0, 778540.0, 778835.0, 779401.0, 779545.0, 779591.0, 779810.0, 779959.0, 780071.0, 780171.0, 780292.0, 780383.0, 780496.0, 780637.0, 780803.0, 780915.0, 781004.0, 781365.0, 781439.0, 781587.0, 781660.0, 781722.0, 781753.0, 781782.0, 781821.0, 781905.0, 781977.0, 782004.0, 782036.0, 782148.0, 782204.0, 782611.0, 782665.0, 782704.0, 782947.0, 783012.0, 783286.0, 783352.0, 783383.0, 783486.0, 783659.0, 783921.0, 783956.0, 784049.0, 784119.0, 784195.0, 784279.0, 784349.0, 784472.0, 784961.0, 785150.0, 785235.0, 785350.0, 785378.0, 785416.0, 785521.0, 788971.0, 789077.0, 789107.0, 789154.0, 789195.0, 789295.0, 789568.0, 789608.0, 789734.0, 789762.0, 789906.0, 789932.0, 790061.0, 790117.0, 790152.0, 790353.0, 790514.0, 791067.0, 791192.0, 791222.0, 795099.0, 795974.0, 796384.0, 796434.0, 796790.0, 796972.0, 797294.0, 797341.0, 797364.0, 797423.0, 797625.0, 797796.0, 797890.0, 797957.0, 807774.0, 807980.0, 808013.0, 808179.0, 808221.0, 808471.0, 808512.0, 808633.0, 808695.0, 808724.0, 808816.0, 808902.0, 808998.0, 809234.0, 809276.0, 814280.0, 814312.0, 814365.0, 814801.0, 814986.0, 815126.0, 815333.0, 815555.0, 816459.0, 816542.0, 818082.0, 818279.0, 818348.0, 818422.0, 818487.0, 818864.0, 819431.0, 819520.0, 820099.0, 820175.0, 858204.0, 858228.0, 858258.0, 858379.0, 858477.0, 858602.0, 859570.0, 859610.0, 859787.0, 859843.0, 861086.0, 870727.0, 875788.0, 877214.0, 877558.0, 877635.0, 877759.0, 903787.0, 903878.0, 903923.0, 903985.0, 904058.0, 907988.0, 908014.0, 908104.0, 908183.0, 908296.0, 908433.0, 908989.0, 909418.0, 909465.0, 909805.0, 909933.0, 909978.0, 910027.0, 910966.0, 911107.0, 911189.0, 911267.0, 911310.0, 911684.0, 937560.0, 937652.0, 937842.0, 939322.0, 939353.0, 942240.0, 942271.0, 942349.0, 942419.0, 942514.0, 942573.0, 942743.0, 942820.0, 942860.0, 942932.0, 942977.0, 943076.0, 943221.0, 943427.0, 943715.0, 943886.0, 943933.0, 944093.0, 944119.0, 944204.0, 944263.0, 944501.0, 944733.0, 945122.0, 945176.0, 945264.0, 945392.0, 945442.0, 945588.0, 945749.0, 945781.0, 945801.0, 945845.0, 945953.0, 945991.0, 946032.0, 959485.0, 959537.0, 959593.0, 959639.0, 959716.0, 959742.0, 959774.0, 959807.0, 960009.0, 960084.0, 960198.0, 960295.0, 960455.0, 960525.0, 960700.0, 960876.0, 961249.0, 961285.0, 961486.0, 961517.0, 961553.0, 961590.0, 961620.0, 961659.0, 961727.0, 961769.0, 961838.0, 962250.0, 963247.0, 963299.0, 963389.0, 963593.0, 963652.0, 963785.0, 963922.0, 963940.0, 963988.0, 964374.0, 964626.0, 964734.0, 964884.0, 964967.0, 965005.0, 965036.0, 965192.0, 965311.0, 965395.0, 965934.0, 965964.0, 966000.0, 966284.0, 966488.0, 966504.0, 966661.0, 982370.0, 995343.0, 1025024.0, 1025136.0, 1025171.0, 1025311.0, 1025357.0, 1025625.0, 1025718.0, 1025816.0, 1025900.0, 1026112.0, 1026571.0, 1026807.0, 1026865.0, 1026925.0, 1031006.0, 1031052.0, 1031084.0, 1031153.0, 1031197.0, 1031234.0, 1031434.0, 1039854.0, 1040733.0, 1040782.0, 1040916.0, 1041612.0, 1041709.0, 1054353.0, 1054422.0, 1054460.0, 1054495.0, 1055052.0, 1055294.0, 1055548.0, 1055628.0, 1055744.0, 1055809.0, 1055949.0, 1056058.0, 1056135.0, 1056236.0, 1056318.0, 1056402.0, 1056490.0, 1056671.0, 1056715.0, 1056754.0, 1056809.0, 1057044.0, 1061479.0, 1061509.0, 1061691.0, 1061889.0, 1061996.0, 1062038.0, 1062086.0, 1062246.0, 1062321.0, 1062354.0, 1062415.0, 1062484.0, 1062557.0, 1062751.0, 1062807.0, 1062842.0, 1062892.0, 1062921.0, 1062961.0, 1063006.0, 1063060.0, 1063095.0, 1063118.0, 1063196.0, 1063235.0, 1063710.0, 1063748.0, 1063966.0, 1064029.0, 1064048.0, 1064068.0, 1064157.0, 1064768.0, 1064784.0, 1064810.0, 1064918.0, 1065056.0, 1065092.0, 1065140.0, 1065219.0, 1065268.0, 1065311.0, 1065337.0, 1065391.0, 1065422.0, 1065554.0, 1065594.0, 1065635.0, 1065694.0, 1065717.0, 1065757.0, 1066217.0, 1201753.0, 1201859.0, 1202047.0, 1202163.0, 1202177.0, 1202283.0, 1202437.0, 1202473.0, 1202503.0, 1202633.0, 1202889.0, 1202965.0, 1203486.0, 1203530.0, 1203624.0, 1203766.0, 1203824.0, 1203944.0, 1204284.0, 1204636.0, 1204773.0, 1204974.0, 1205070.0, 1205089.0, 1205294.0, 1205333.0, 1205460.0, 1205507.0, 1205540.0, 1205599.0, 1205651.0, 1208623.0, 1208656.0, 1208700.0, 1208735.0, 1208784.0, 1210180.0, 1210823.0, 1210854.0, 1210882.0, 1210986.0, 1211437.0, 1294363.0, 1294391.0, 1294834.0, 1295037.0, 1295104.0, 1295142.0, 1295370.0, 1296313.0, 1297383.0, 1297449.0, 1297488.0, 1297558.0, 1297607.0, 1297648.0, 1297731.0, 1297795.0, 1297886.0, 1297967.0, 1298022.0, 1298058.0, 1298660.0, 1298874.0, 1298915.0, 1299169.0, 1299363.0, 1299551.0, 1299686.0, 1299775.0, 1299816.0, 1300027.0, 1300695.0, 1300751.0, 1300809.0, 1301264.0, 1301346.0, 1301447.0, 1310819.0, 1310844.0, 1310894.0, 1312152.0, 1312853.0, 1313335.0, 1314707.0, 1314785.0, 1315835.0, 1316251.0, 1316381.0, 1317641.0, 1317698.0, 1317815.0, 1317859.0, 1317945.0, 1318060.0, 1318093.0, 1318163.0, 1318519.0, 1318639.0, 1319398.0, 1319619.0, 1319676.0, 1319936.0, 1320003.0, 1320027.0, 1320752.0, 1320856.0, 1320951.0, 1321051.0, 1321238.0, 1321333.0, 1321625.0, 1321782.0, 1321836.0, 1321856.0, 1322036.0, 1322760.0, 1323139.0, 1323420.0, 1323479.0, 1323846.0, 1323883.0, 1324134.0, 1324195.0, 1324213.0, 1324423.0, 1324744.0, 1324863.0, 1324914.0, 1325486.0, 1325616.0, 1325710.0, 1325807.0, 1325875.0, 1325995.0, 1326074.0, 1326136.0, 1326157.0, 1326357.0, 1332993.0, 1333017.0, 1333260.0, 1333388.0, 1333563.0, 1333603.0, 1335336.0, 1335408.0, 1335430.0, 1335480.0, 1335812.0, 1335944.0, 1336007.0, 1336074.0, 1336123.0, 1336479.0, 1336880.0, 1337021.0, 1337130.0, 1337189.0, 1337290.0, 1337327.0, 1337433.0, 1337559.0, 1337660.0, 1337971.0, 1338167.0, 1338227.0, 1338255.0, 1338305.0, 1338384.0, 1338744.0, 1338796.0, 1338848.0, 1338949.0, 1338999.0, 1339032.0, 1339059.0, 1339143.0, 1339241.0, 1339361.0, 1339470.0, 1341440.0, 1341480.0, 1341638.0, 1341655.0, 1342513.0, 1342561.0, 1342637.0, 1342990.0, 1343119.0, 1343146.0, 1343279.0, 1343397.0, 1343543.0, 1343591.0, 1343723.0, 1344164.0, 1344487.0, 1369137.0, 1369907.0, 1370290.0, 1370508.0, 1370978.0, 1371415.0, 1371487.0, 1371574.0, 1371754.0, 1372099.0, 1372190.0, 1372233.0, 1372299.0, 1372336.0, 1372499.0, 1372600.0, 1372655.0, 1372693.0, 1372845.0, 1373501.0, 1373881.0, 1374662.0, 1375280.0, 1375726.0, 1375773.0, 1376698.0, 1376772.0, 1377211.0, 1380418.0, 1380577.0, 1380616.0, 1380714.0, 1380760.0, 1380787.0, 1380923.0, 1380946.0, 1380983.0, 1381041.0, 1381079.0, 1381117.0, 1381222.0, 1381403.0, 1381571.0, 1381783.0, 1381830.0, 1381863.0, 1382318.0, 1382694.0, 1382864.0, 1383047.0, 1383077.0, 1383133.0, 1388230.0, 1388444.0, 1389427.0, 1389644.0, 1396013.0, 1396796.0, 1398956.0, 1398986.0, 1399032.0, 1399084.0, 1399722.0, 1399775.0, 1410339.0, 1410567.0, 1411623.0, 1544598.0, 1544661.0, 1544723.0, 1545500.0, 1552211.0, 1552228.0, 1552905.0, 1553154.0, 1558695.0, 1559375.0, 1559399.0, 1559465.0, 1559516.0, 1559789.0, 1560104.0, 1560259.0, 1560287.0, 1560312.0, 1560614.0, 1560752.0, 1560870.0, 1561014.0, 1561058.0, 1561110.0, 1561167.0, 1561428.0, 1561539.0, 1561591.0, 1561780.0, 1561833.0, 1561995.0, 1562057.0, 1562092.0, 1562169.0, 1562201.0, 1562327.0, 1562392.0, 1562464.0, 1562593.0, 1562636.0, 1562672.0, 1562873.0, 1562971.0, 1563124.0, 1563168.0, 1563184.0, 1563344.0, 1563512.0, 1563581.0, 1563634.0, 1563715.0, 1563937.0, 1564291.0, 1564509.0, 1564553.0, 1564641.0, 1564672.0, 1566137.0, 1566187.0, 1566223.0, 1566290.0, 1566322.0, 1567119.0, 1567315.0, 1567435.0, 1567585.0, 1589057.0, 1589108.0, 1589306.0, 1589491.0, 1589519.0, 1632944.0, 1633000.0, 1633196.0, 1633221.0, 1633265.0, 1633557.0, 1633690.0, 1634259.0, 1634359.0, 1635170.0, 1635281.0, 1635394.0, 1635669.0, 1636038.0, 1636102.0, 1636201.0, 1725871.0, 1726066.0, 1726193.0, 1726406.0, 1729161.0, 1729215.0, 1729267.0, 1729311.0, 1729448.0, 1729522.0, 1729775.0, 1730638.0, 1730890.0, 1731050.0, 1731073.0, 1731161.0, 1744901.0, 1744934.0, 1744975.0, 1745133.0, 1747692.0, 1747840.0, 1747914.0, 1748037.0, 1748102.0, 1748369.0, 1748406.0, 1748546.0, 1748611.0, 1757428.0, 1757519.0, 1757558.0, 1759252.0, 1759917.0, 1811896.0, 1983203.0, 1983482.0, 1996472.0, 1996660.0, 1996772.0, 1996866.0, 1996952.0, 1997066.0, 1997096.0, 1997183.0, 1997310.0, 1997339.0, 1997486.0, 1997536.0, 1997649.0, 1997799.0, 1997881.0, 1998097.0, 1998244.0, 1998608.0, 1998724.0, 1999550.0, 1999777.0, 2000054.0, 2007124.0, 2007492.0, 2007854.0, 2007966.0, 2008046.0, 2008094.0, 2008129.0, 2008377.0, 2008552.0, 2008604.0, 2009255.0, 2009780.0, 2009872.0, 2009929.0, 2030130.0, 2030211.0, 2030235.0, 2202109.0, 2204928.0, 2205896.0, 2206658.0, 2206780.0, 2206926.0, 2206956.0, 2207232.0, 2207307.0, 2207693.0, 2207760.0, 2208149.0, 2208295.0, 2208341.0, 2208477.0, 2208579.0, 2239328.0, 2239764.0, 2240186.0, 2242363.0, 2243257.0, 2243474.0, 2243520.0, 2243659.0, 2244238.0, 2244703.0, 2244771.0, 2245145.0, 2245164.0, 2245622.0, 2245690.0, 2245760.0, 2245836.0, 2245957.0, 2246150.0, 2246221.0, 2246353.0, 2246387.0, 2246599.0, 2246754.0, 2247139.0, 2247165.0, 2247288.0, 2247370.0, 2247407.0, 2247471.0, 2247589.0, 2247682.0, 2248787.0, 2249963.0, 2251058.0, 2251222.0, 2251384.0, 2251541.0, 2251694.0, 2251776.0, 2251826.0, 2251878.0, 2252032.0, 2252617.0, 2252672.0, 2252843.0, 2252906.0, 2252941.0, 2253028.0, 2253087.0, 2253463.0, 2254079.0, 2254575.0, 2254619.0, 2254734.0, 2254812.0, 2254962.0, 2255264.0, 2255306.0, 2255614.0, 2255818.0, 2265251.0, 2265349.0, 2265585.0, 2267720.0, 2268070.0, 2268126.0, 2268183.0, 2268606.0, 2274352.0, 2274555.0, 2274929.0, 2275608.0, 2275682.0, 2276588.0, 2277061.0, 2277830.0, 2277906.0, 2278127.0, 2279054.0, 2279264.0, 2279775.0, 2279872.0, 2279985.0, 2285218.0, 2285297.0, 2285718.0, 2419138.0, 2419160.0]'"
            ],
            "application/vnd.google.colaboratory.intrinsic+json": {
              "type": "string"
            }
          },
          "metadata": {},
          "execution_count": 64
        }
      ]
    },
    {
      "cell_type": "code",
      "source": [],
      "metadata": {
        "id": "LctvR-VhVZkM"
      },
      "execution_count": null,
      "outputs": []
    },
    {
      "cell_type": "code",
      "source": [
        "plt.plot([0.6966916918754578, 0.9860804677009583, 0.9860804677009583, 0.9860804677009583, 0.9981822967529297, 0.9981822967529297, 0.9981822967529297, 0.9981822967529297, 0.9981822967529297, 0.9981822967529297, 0.9981822967529297, 0.9981822967529297, 0.9981822967529297, 0.9981822967529297, 0.9990888833999634, 0.9990888833999634, 0.9990888833999634, 0.9990888833999634, 0.9990888833999634, 0.9990888833999634, 0.9983527660369873, 0.9983527660369873, 0.9983527660369873, 0.9985841512680054, 0.9985841512680054, 0.9985841512680054, 0.9985841512680054, 0.9985841512680054, 0.9985841512680054, 0.9923239946365356, 0.9923239946365356, 0.9923239946365356, 0.9995571970939636, 0.9995571970939636, 0.9998775720596313, 0.9998775720596313, 0.9998775720596313, 0.9998775720596313, 0.9998775720596313, 0.9998775720596313, 0.9998775720596313, 0.9999629259109497, 0.9999629259109497, 0.9999803304672241, 0.9999803304672241, 0.9999803304672241, 0.9999803304672241, 0.999964714050293, 0.999964714050293, 0.999964714050293, 0.9999957084655762, 0.9999957084655762, 0.9999957084655762, 0.9999957084655762, 0.9999957084655762, 0.9999957084655762, 0.9999936819076538, 0.9999936819076538, 0.9999936819076538, 0.9999889135360718, 0.9999889135360718, 0.9999889135360718, 0.9999889135360718, 0.9999889135360718, 0.9999889135360718, 0.9999889135360718, 0.9999889135360718, 0.9999889135360718, 0.9999957084655762, 0.9999957084655762, 0.9999971389770508, 0.9999971389770508, 0.9999971389770508, 0.9999971389770508, 0.9999971389770508, 0.9999971389770508, 0.9999971389770508, 0.9999971389770508, 0.9999971389770508, 0.9999971389770508, 0.9999984502792358, 0.9999984502792358, 0.9999984502792358, 0.9999947547912598, 0.9999979734420776, 0.9999979734420776, 0.9999974966049194, 0.9999974966049194, 0.9999986886978149, 0.9999986886978149, 0.9999973773956299, 0.9999973773956299, 0.9999973773956299, 0.9999973773956299, 0.9999973773956299, 0.9999996423721313, 0.9999996423721313, 0.9999996423721313, 0.9999996423721313, 0.9999996423721313, 0.9999996423721313, 0.9999996423721313, 0.9999996423721313, 0.9999996423721313, 0.9999996423721313, 0.9999996423721313, 0.9999996423721313, 0.9999996423721313, 0.9999996423721313, 0.9999996423721313, 0.9999996423721313, 0.9999996423721313, 0.9999996423721313, 0.9999996423721313, 0.9999996423721313, 0.9999996423721313, 0.9999996423721313, 0.9999996423721313, 0.9999996423721313, 0.9999996423721313, 0.9999997615814209, 0.9999997615814209, 0.9999997615814209, 0.9999997615814209, 0.9999997615814209, 0.9999998807907104, 0.9999998807907104, 0.9999998807907104, 0.9999998807907104, 0.9999998807907104, 0.9999998807907104, 0.9999992847442627, 0.9999992847442627, 0.9999992847442627, 0.9999991655349731, 0.9999991655349731, 0.9999998807907104, 1.0, 1.0, 1.0, 1.0, 0.9999998807907104, 0.9999998807907104, 0.9999998807907104, 0.9999998807907104, 0.9999992847442627, 0.9999992847442627, 0.9999992847442627, 0.9999992847442627, 0.9999992847442627, 0.9999992847442627, 0.9999992847442627, 0.9999998807907104, 0.9999998807907104, 0.9999992847442627, 0.9999992847442627, 0.9999992847442627, 0.9999992847442627, 0.9999995231628418, 0.9999995231628418, 0.9999995231628418, 0.9999995231628418, 0.9999995231628418, 0.9999995231628418, 0.9999995231628418, 0.9999995231628418, 0.9999995231628418, 0.9999995231628418, 0.9999995231628418, 0.9999995231628418, 0.9999995231628418, 0.999998927116394, 0.999998927116394, 0.9999992847442627, 0.9999992847442627, 0.9999992847442627, 0.9999992847442627, 0.9999992847442627, 0.9999997615814209, 0.9999997615814209, 0.9999997615814209, 0.9999997615814209, 0.9999998807907104, 0.9999998807907104, 0.9999998807907104, 0.9999998807907104, 0.9999998807907104, 0.9999998807907104, 0.9999998807907104, 0.9999998807907104, 0.9999998807907104, 0.9999998807907104, 0.9999998807907104, 0.9999998807907104, 0.9999998807907104, 0.9999998807907104, 0.9999997615814209, 0.9999997615814209])"
      ],
      "metadata": {
        "colab": {
          "base_uri": "https://localhost:8080/",
          "height": 447
        },
        "id": "5LgXQ_DtiYd4",
        "outputId": "d3a5ab6f-ab49-458c-a332-c310ba321cb9"
      },
      "execution_count": 211,
      "outputs": [
        {
          "output_type": "execute_result",
          "data": {
            "text/plain": [
              "[<matplotlib.lines.Line2D at 0x7e017a9222f0>]"
            ]
          },
          "metadata": {},
          "execution_count": 211
        },
        {
          "output_type": "display_data",
          "data": {
            "text/plain": [
              "<Figure size 640x480 with 1 Axes>"
            ],
            "image/png": "[encoded data removed]"
          },
          "metadata": {}
        }
      ]
    },
    {
      "cell_type": "code",
      "source": [
        "plt.plot([0.836663544178009, 0.017139390110969543, 0.017139390110969543, 0.017139390110969543, 0.017139390110969543, 0.017139390110969543, 0.024223605170845985, 0.9932795166969299, 0.9932795166969299, 0.9932795166969299, 0.9932795166969299, 0.7777556777000427, 0.03685849532485008, 0.8792458176612854, 0.9675284624099731, 0.9675284624099731, 0.9675284624099731, 0.9675284624099731, 0.981442391872406, 0.981442391872406, 0.981442391872406, 0.981442391872406, 0.9921514987945557, 0.9638796448707581, 0.9638796448707581, 0.9638796448707581, 0.9734542965888977, 0.9957979321479797, 0.9957979321479797, 0.9957979321479797, 0.9957979321479797, 0.9957979321479797, 0.994429886341095, 0.00033859378891065717, 0.00033859378891065717, 0.00033859378891065717, 0.00033859378891065717, 0.00033859378891065717, 0.18128497898578644, 0.18128497898578644, 0.254107266664505, 0.254107266664505])"
      ],
      "metadata": {
        "colab": {
          "base_uri": "https://localhost:8080/",
          "height": 447
        },
        "id": "WGJM6S37iZXy",
        "outputId": "6006014e-60ec-47d9-c8c9-4700823e02ad"
      },
      "execution_count": 214,
      "outputs": [
        {
          "output_type": "execute_result",
          "data": {
            "text/plain": [
              "[<matplotlib.lines.Line2D at 0x7e017a940070>]"
            ]
          },
          "metadata": {},
          "execution_count": 214
        },
        {
          "output_type": "display_data",
          "data": {
            "text/plain": [
              "<Figure size 640x480 with 1 Axes>"
            ],
            "image/png": "[encoded data removed]"
          },
          "metadata": {}
        }
      ]
    },
    {
      "cell_type": "code",
      "source": [
        "from matplotlib import pyplot as plt\n",
        "plt.plot([0.9999996423721313, 0.9999996423721313, 0.9999996423721313, 0.9999996423721313, 0.9999996423721313, 0.9999996423721313, 0.9999996423721313, 0.9999996423721313, 0.9999996423721313, 0.9999996423721313, 0.9999996423721313, 0.9999996423721313, 0.9999996423721313, 0.9999996423721313, 0.9999996423721313, 0.9999996423721313, 0.9999996423721313, 0.9999996423721313, 0.9999996423721313, 0.9999996423721313, 0.9999996423721313, 0.9999996423721313, 0.9999996423721313, 0.9999996423721313, 0.9999996423721313, 0.9999996423721313, 0.9999996423721313, 0.9999996423721313, 0.9999996423721313, 0.9999996423721313, 0.9999996423721313, 0.9999996423721313, 0.9999996423721313, 0.9999996423721313, 0.9999996423721313, 0.9999996423721313, 0.9999996423721313, 0.9999996423721313, 0.9999996423721313, 0.9999996423721313, 0.9999996423721313, 0.9999996423721313, 0.9999996423721313, 0.9999996423721313, 0.9999996423721313, 0.9999996423721313, 0.9999996423721313, 0.9999996423721313, 0.9999996423721313, 0.9999996423721313, 0.9999996423721313, 0.9999996423721313, 0.9999996423721313, 0.9999996423721313, 0.9999996423721313, 0.9999996423721313, 0.9999996423721313, 0.9999996423721313, 0.9999996423721313, 0.9999996423721313, 0.9999996423721313, 0.9999996423721313, 0.9999996423721313, 0.9999996423721313, 0.9999996423721313, 0.9999996423721313, 0.9999996423721313, 0.9999996423721313, 0.9999996423721313, 0.9999996423721313, 0.9999996423721313, 0.9999996423721313, 0.9999996423721313, 0.9999996423721313, 0.9999996423721313, 0.9999996423721313, 0.9999996423721313, 0.9999996423721313, 0.9999996423721313, 0.9999996423721313, 0.9999996423721313, 0.9999996423721313, 0.9999996423721313, 0.9999996423721313, 0.9999996423721313, 0.9999996423721313, 0.9999996423721313, 0.9999996423721313, 0.9999996423721313, 0.9999996423721313, 0.9999996423721313, 0.9999996423721313, 0.9999996423721313, 0.9999996423721313, 0.9999996423721313, 0.9999996423721313, 0.9999996423721313, 0.9999996423721313, 0.9999996423721313, 0.9999996423721313, 0.9999996423721313, 0.9999996423721313, 0.9999996423721313, 0.9999996423721313, 0.9999996423721313, 0.9999996423721313, 0.9999996423721313, 0.9999996423721313, 0.9999996423721313, 0.9999996423721313, 0.9999996423721313, 0.9999996423721313, 0.9999996423721313, 0.9999996423721313, 0.9999996423721313, 0.9999996423721313, 0.9999996423721313, 0.9999996423721313, 0.9999996423721313, 0.9999996423721313, 0.9999996423721313, 0.9999996423721313, 0.9999996423721313, 0.9999996423721313, 0.9999996423721313, 0.9999996423721313, 0.9999996423721313, 0.9999996423721313, 0.9999996423721313, 0.9999996423721313, 0.9999996423721313, 0.9999996423721313, 0.9999996423721313, 0.9999996423721313, 0.9999996423721313, 0.9999996423721313, 0.9999996423721313, 0.9999996423721313, 0.9999996423721313, 0.9999996423721313, 0.9999996423721313, 0.9999996423721313, 0.9999996423721313, 0.9999996423721313, 0.9999996423721313, 0.9999996423721313, 0.9999996423721313, 0.9999996423721313, 0.9999996423721313, 0.9999996423721313, 0.9999996423721313, 0.9999996423721313, 0.9999996423721313, 0.9999996423721313, 0.9999996423721313, 0.9999996423721313, 0.9999996423721313, 0.9999996423721313, 0.9999996423721313, 0.9999996423721313, 0.9999996423721313, 0.9999996423721313, 0.9999996423721313, 0.9999996423721313, 0.9999996423721313, 0.9999996423721313, 0.9999996423721313, 0.9999996423721313, 0.9999996423721313, 0.9999996423721313, 0.9999996423721313, 0.9999996423721313, 0.9999996423721313, 0.9999996423721313, 0.9999996423721313, 0.9999996423721313, 0.9999996423721313, 0.9999996423721313, 0.9999996423721313, 0.9999996423721313, 0.9999996423721313, 0.9999996423721313, 0.9999996423721313, 0.9999996423721313, 0.9999996423721313, 0.9999996423721313, 0.9999996423721313, 0.9999996423721313, 0.9999996423721313, 0.9999996423721313, 0.9999996423721313, 0.9999996423721313, 0.9999996423721313, 0.9999996423721313, 0.9999996423721313, 0.9999996423721313, 0.9999996423721313, 0.9999996423721313, 0.9999996423721313, 0.9999996423721313, 0.9511193037033081, 0.9511193037033081, 0.9511193037033081, 0.9511193037033081, 0.9511193037033081, 0.9511193037033081, 0.9511193037033081, 0.9511193037033081, 0.9511193037033081, 0.9511193037033081, 0.9511193037033081, 0.9511193037033081, 0.9511193037033081, 0.9511193037033081, 0.9511193037033081, 0.9511193037033081, 0.9511193037033081, 0.9511193037033081, 0.9511193037033081, 0.9511193037033081, 0.9511193037033081, 0.9511193037033081, 0.9511193037033081, 0.9511193037033081, 0.9511193037033081, 0.9511193037033081, 0.9511193037033081, 0.9511193037033081, 0.9511193037033081, 0.9511193037033081, 0.9511193037033081, 0.9511193037033081, 0.9511193037033081, 0.9511193037033081, 0.9511193037033081, 0.9511193037033081, 0.9511193037033081, 0.9511193037033081, 0.9511193037033081, 0.9511193037033081, 0.9511193037033081, 0.9511193037033081, 0.9511193037033081, 0.9511193037033081, 0.9511193037033081, 0.9511193037033081, 0.9511193037033081, 0.9511193037033081, 0.9511193037033081, 0.9511193037033081, 0.9511193037033081, 0.9511193037033081, 0.9511193037033081, 0.9511193037033081, 0.9511193037033081, 0.9511193037033081, 0.9511193037033081, 0.9511193037033081, 0.9511193037033081, 0.9511193037033081, 0.9511193037033081, 0.9511193037033081, 0.9511193037033081, 0.9511193037033081, 0.9511193037033081, 0.9511193037033081, 0.9511193037033081, 0.9511193037033081, 0.9511193037033081, 0.9511193037033081, 0.9511193037033081, 0.9511193037033081, 0.9511193037033081, 0.9511193037033081, 0.9511193037033081, 0.9511193037033081, 0.9511193037033081, 0.9511193037033081, 0.9511193037033081, 0.9511193037033081, 0.9511193037033081, 0.9511193037033081, 0.9511193037033081, 0.9511193037033081, 0.9511193037033081, 0.9511193037033081, 0.9511193037033081, 0.9511193037033081, 0.9511193037033081, 0.9511193037033081, 0.9511193037033081, 0.9511193037033081, 0.9511193037033081, 0.9511193037033081, 0.9511193037033081, 0.9511193037033081, 0.9511193037033081, 0.9511193037033081, 0.9511193037033081, 0.9511193037033081, 0.9511193037033081, 0.9511193037033081, 0.9511193037033081, 0.9511193037033081, 0.9511193037033081, 0.9511193037033081, 0.9511193037033081, 0.9511193037033081, 0.9511193037033081, 0.9511193037033081, 0.9511193037033081, 0.9511193037033081, 0.9511193037033081, 0.9511193037033081, 0.9511193037033081, 0.9511193037033081, 0.9511193037033081, 0.9511193037033081, 0.9511193037033081, 0.9511193037033081, 0.9511193037033081, 0.9511193037033081, 0.9511193037033081, 0.9511193037033081, 0.9511193037033081, 0.9511193037033081, 0.9511193037033081, 0.9511193037033081, 0.9511193037033081, 0.9511193037033081, 0.9511193037033081, 0.9511193037033081, 0.9511193037033081, 0.9511193037033081, 0.9511193037033081, 0.9511193037033081, 0.9511193037033081, 0.9511193037033081, 0.9511193037033081, 0.9511193037033081, 0.9511193037033081, 0.9511193037033081, 0.9511193037033081, 0.9511193037033081, 0.9511193037033081, 0.9511193037033081, 0.9511193037033081, 0.9511193037033081, 0.9511193037033081, 0.9511193037033081, 0.9511193037033081, 0.9511193037033081, 0.9511193037033081, 0.9511193037033081, 0.9511193037033081, 0.9511193037033081, 0.9511193037033081, 0.9511193037033081, 0.9511193037033081, 0.9511193037033081, 0.9511193037033081, 0.9511193037033081, 0.9511193037033081, 0.9511193037033081, 0.9511193037033081, 0.9511193037033081, 0.9511193037033081, 0.9511193037033081, 0.9511193037033081, 0.9511193037033081, 0.9511193037033081, 0.9511193037033081, 0.9511193037033081, 0.9511193037033081, 0.9511193037033081, 0.9511193037033081, 0.9511193037033081, 0.9511193037033081, 0.9511193037033081, 0.9511193037033081, 0.9511193037033081, 0.9511193037033081, 0.9511193037033081, 0.9511193037033081, 0.9511193037033081, 0.9511193037033081, 0.9511193037033081, 0.9511193037033081, 0.9511193037033081, 0.9511193037033081, 0.9511193037033081, 0.9511193037033081, 0.9511193037033081, 0.9511193037033081, 0.9511193037033081, 0.9511193037033081, 0.9511193037033081, 0.9511193037033081, 0.9511193037033081, 0.9511193037033081])"
      ],
      "metadata": {
        "colab": {
          "base_uri": "https://localhost:8080/",
          "height": 447
        },
        "id": "Z_gqljG2jTmR",
        "outputId": "53629515-fbb9-4556-9e74-83b0fdc5be18"
      },
      "execution_count": 36,
      "outputs": [
        {
          "output_type": "execute_result",
          "data": {
            "text/plain": [
              "[<matplotlib.lines.Line2D at 0x7c7ed9ced6c0>]"
            ]
          },
          "metadata": {},
          "execution_count": 36
        },
        {
          "output_type": "display_data",
          "data": {
            "text/plain": [
              "<Figure size 640x480 with 1 Axes>"
            ],
            "image/png": "[encoded data removed]"
          },
          "metadata": {}
        }
      ]
    },
    {
      "cell_type": "code",
      "source": [
        "timestamps = [2218300, 2227501, 2236702, 2245903, 2255104, 2264305, 2273506, 2282707, 2291908, 2295420, 2296518, 2296596, 2297108, 2297348, 2298882, 2301109, 2310310, 2313196, 2315634, 2315967, 2316195, 2316250, 2319511, 2319848, 2328712, 2337913, 2347114, 2356315, 2363665, 2365516, 2374684, 2374717, 2381739, 2381844, 2381979, 2382051, 2382681, 2382843, 2382906, 2383918, 2384701, 2391766, 2393119, 2402320, 2411521, 2414350, 2414889, 2415038, 2420722, 2429923, 2439124, 2448325, 2457526, 2466727, 2472848, 2472952, 2473052, 2473178, 2473506, 2473799, 2475928, 2481811, 2485129, 2494330, 2503531, 2508797, 2509084, 2509168, 2509314, 2509471, 2512732, 2521933, 2531134, 2539495, 2539603, 2540335, 2549536, 2558737, 2567938, 2577139, 2586340, 2595541, 2604742, 2613943, 2623144, 2628541, 2628595, 2632345, 2641546, 2650747, 2659948, 2669149, 2678350]\n",
        "preds = [0.9808714985847473, 0.9808714985847473, 0.9808714985847473, 0.24127694964408875, 0.5280994176864624, 9.689043508842587e-06, 0.0013242880813777447, 0.9948284029960632, 0.14512622356414795, 0.14512622356414795, 0.08630691468715668, 0.08630691468715668, 0.08630691468715668, 0.08630691468715668, 0.08630691468715668, 0.20759043097496033, 0.3182441294193268, 0.1296166628599167, 0.9952479004859924, 0.9952479004859924, 0.9952479004859924, 0.9952479004859924, 0.6546730995178223, 0.6546730995178223, 0.4991166591644287, 0.8940587639808655, 0.6189364194869995, 0.18206200003623962, 0.5199682712554932, 0.5199682712554932, 0.8511466979980469, 0.8511466979980469, 0.9748271703720093, 0.9748271703720093, 0.9748271703720093, 0.9748271703720093, 0.9949607849121094, 0.9949607849121094, 0.9949607849121094, 0.9949607849121094, 0.9949607849121094, 0.9993873834609985, 0.9993873834609985, 0.9821098446846008, 0.9983626008033752, 0.9978650212287903, 0.9978650212287903, 0.9978650212287903, 0.9965060949325562, 0.5262374877929688, 0.9653517007827759, 0.9914857745170593, 0.8919767737388611, 0.9719432592391968, 0.9693143367767334, 0.9693143367767334, 0.9693143367767334, 0.9693143367767334, 0.9693143367767334, 0.9693143367767334, 0.9693143367767334, 0.9955950379371643, 0.954698920249939, 0.9243288636207581, 0.0903896912932396, 0.0903896912932396, 0.0903896912932396, 0.0903896912932396, 0.0903896912932396, 0.0903896912932396, 0.8814622163772583, 0.9971107244491577, 0.9984769225120544, 0.5768489241600037, 0.5768489241600037, 0.5768489241600037, 0.12778796255588531, 0.12778796255588531, 0.2596603333950043, 0.41933873295783997, 0.9209663271903992, 0.9951464533805847, 0.34321916103363037, 0.0007943722885102034, 0.0028364004101604223, 0.0028364004101604223, 0.0028364004101604223, 0.6540876030921936, 0.9445704221725464, 0.9260780811309814, 0.8554201126098633, 0.9273248314857483, 0.00033500310382805765]\n",
        "positive_sample_mask = [False, False, False, False, False, False, False, False, False,  True,\n",
        "         True,  True,  True,  True,  True, False, False,  True,  True,  True,\n",
        "         True,  True, False,  True, False, False, False, False,  True, False,\n",
        "         True, False,  True,  True,  True,  True,  True,  True,  True, False,\n",
        "         True,  True, False, False, False,  True,  True,  True, False, False,\n",
        "        False, False, False, False,  True,  True,  True,  True,  True,  True,\n",
        "        False,  True, False, False, False,  True,  True,  True,  True,  True,\n",
        "        False, False, False,  True,  True, False, False, False, False, False,\n",
        "        False, False, False, False, False,  True,  True, False, False, False,\n",
        "        False, False, False]\n",
        "\n",
        "timestamps = np.array(timestamps)\n",
        "preds = np.array(preds)\n",
        "positive_sample_mask = np.array(positive_sample_mask)\n",
        "\n",
        "display_negative_edges = False\n",
        "\n",
        "if display_negative_edges:\n",
        "  plt.plot(timestamps, preds)\n",
        "  plt.scatter(timestamps, positive_sample_mask, color=\"orange\")\n",
        "else:\n",
        "  timestamps = timestamps[positive_sample_mask]\n",
        "  preds = preds[positive_sample_mask]\n",
        "  plt.plot(timestamps, preds)\n"
      ],
      "metadata": {
        "colab": {
          "base_uri": "https://localhost:8080/",
          "height": 448
        },
        "id": "R4pkN2MNZ20k",
        "outputId": "55c1af96-4a1a-48d3-b144-ad943370317f"
      },
      "execution_count": 69,
      "outputs": [
        {
          "output_type": "display_data",
          "data": {
            "text/plain": [
              "<Figure size 640x480 with 1 Axes>"
            ],
            "image/png": "[encoded data removed]"
          },
          "metadata": {}
        }
      ]
    },
    {
      "cell_type": "code",
      "source": [
        "timestamps"
      ],
      "metadata": {
        "colab": {
          "base_uri": "https://localhost:8080/"
        },
        "id": "apxrxi8LmOHp",
        "outputId": "066e4304-3c92-4851-b93c-d5818ed10ad0"
      },
      "execution_count": 70,
      "outputs": [
        {
          "output_type": "execute_result",
          "data": {
            "text/plain": [
              "array([2295420, 2296518, 2296596, 2297108, 2297348, 2298882, 2313196,\n",
              "       2315634, 2315967, 2316195, 2316250, 2319848, 2363665, 2374684,\n",
              "       2381739, 2381844, 2381979, 2382051, 2382681, 2382843, 2382906,\n",
              "       2384701, 2391766, 2414350, 2414889, 2415038, 2472848, 2472952,\n",
              "       2473052, 2473178, 2473506, 2473799, 2481811, 2508797, 2509084,\n",
              "       2509168, 2509314, 2509471, 2539495, 2539603, 2628541, 2628595])"
            ]
          },
          "metadata": {},
          "execution_count": 70
        }
      ]
    },
    {
      "cell_type": "code",
      "source": [
        "preds"
      ],
      "metadata": {
        "colab": {
          "base_uri": "https://localhost:8080/"
        },
        "id": "-9B0XUkYmQ4d",
        "outputId": "032020bc-b7d0-4bfa-efa3-700b1ecb87bc"
      },
      "execution_count": 71,
      "outputs": [
        {
          "output_type": "execute_result",
          "data": {
            "text/plain": [
              "array([0.14512622, 0.08630691, 0.08630691, 0.08630691, 0.08630691,\n",
              "       0.08630691, 0.12961666, 0.9952479 , 0.9952479 , 0.9952479 ,\n",
              "       0.9952479 , 0.6546731 , 0.51996827, 0.8511467 , 0.97482717,\n",
              "       0.97482717, 0.97482717, 0.97482717, 0.99496078, 0.99496078,\n",
              "       0.99496078, 0.99496078, 0.99938738, 0.99786502, 0.99786502,\n",
              "       0.99786502, 0.96931434, 0.96931434, 0.96931434, 0.96931434,\n",
              "       0.96931434, 0.96931434, 0.99559504, 0.09038969, 0.09038969,\n",
              "       0.09038969, 0.09038969, 0.09038969, 0.57684892, 0.57684892,\n",
              "       0.0028364 , 0.0028364 ])"
            ]
          },
          "metadata": {},
          "execution_count": 71
        }
      ]
    },
    {
      "cell_type": "code",
      "source": [
        "np.array(positive_sample_mask).sum(), len(positive_sample_mask)"
      ],
      "metadata": {
        "colab": {
          "base_uri": "https://localhost:8080/"
        },
        "id": "7Qemeqt0bNDT",
        "outputId": "75a0f6da-f5dc-483e-d811-1ca83c7ae524"
      },
      "execution_count": 72,
      "outputs": [
        {
          "output_type": "execute_result",
          "data": {
            "text/plain": [
              "(42, 93)"
            ]
          },
          "metadata": {},
          "execution_count": 72
        }
      ]
    },
    {
      "cell_type": "code",
      "source": [
        "timestamps = np.array([2295420, 2296518, 2296596, 2297108, 2297348, 2298882, 2313196, 2315634, 2315967, 2316195, 2316250, 2319848, 2363665, 2374684, 2381739, 2381844, 2381979, 2382051, 2382681, 2382843, 2382906, 2384701, 2391766, 2414350, 2414889, 2415038, 2472848, 2472952, 2473052, 2473178, 2473506, 2473799, 2481811, 2508797, 2509084, 2509168, 2509314, 2509471, 2539495, 2539603, 2628541, 2628595])\n",
        "preds = np.array([0.8366639018058777, 0.017139365896582603, 0.017139365896582603, 0.017139365896582603, 0.017139365896582603, 0.017139365896582603, 0.024223553016781807, 0.9932795166969299, 0.9932795166969299, 0.9932795166969299, 0.9932795166969299, 0.7777567505836487, 0.03685832396149635, 0.8792459964752197, 0.9675283432006836, 0.9675283432006836, 0.9675283432006836, 0.9675283432006836, 0.9814422726631165, 0.9814422726631165, 0.9814422726631165, 0.9814422726631165, 0.9921514987945557, 0.9638797640800476, 0.9638797640800476, 0.9638797640800476, 0.9734542965888977, 0.9957979321479797, 0.9957979321479797, 0.9957979321479797, 0.9957979321479797, 0.9957979321479797, 0.994429886341095, 0.0003385931486263871, 0.0003385931486263871, 0.0003385931486263871, 0.0003385931486263871, 0.0003385931486263871, 0.1812855303287506, 0.1812855303287506, 0.2541064918041229, 0.2541064918041229])\n",
        "\n",
        "plt.plot(timestamps, preds)"
      ],
      "metadata": {
        "colab": {
          "base_uri": "https://localhost:8080/",
          "height": 465
        },
        "id": "aSxG3h7Nk48W",
        "outputId": "f867cbac-18e6-4790-91d5-3d009df5d538"
      },
      "execution_count": 74,
      "outputs": [
        {
          "output_type": "execute_result",
          "data": {
            "text/plain": [
              "[<matplotlib.lines.Line2D at 0x7c7ed3b33640>]"
            ]
          },
          "metadata": {},
          "execution_count": 74
        },
        {
          "output_type": "display_data",
          "data": {
            "text/plain": [
              "<Figure size 640x480 with 1 Axes>"
            ],
            "image/png": "[encoded data removed]"
          },
          "metadata": {}
        }
      ]
    },
    {
      "cell_type": "code",
      "source": [],
      "metadata": {
        "id": "KKur5pbvmKOz"
      },
      "execution_count": null,
      "outputs": []
    }
  ]
}