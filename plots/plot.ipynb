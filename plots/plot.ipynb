{
  "nbformat": 4,
  "nbformat_minor": 0,
  "metadata": {
    "colab": {
      "provenance": []
    },
    "kernelspec": {
      "name": "python3",
      "display_name": "Python 3"
    },
    "language_info": {
      "name": "python"
    }
  },
  "cells": [
    {
      "cell_type": "code",
      "execution_count": 37,
      "metadata": {
        "colab": {
          "base_uri": "https://localhost:8080/"
        },
        "id": "mw0-79LPpHCG",
        "outputId": "fb230042-ec54-443e-abca-760396b77327"
      },
      "outputs": [
        {
          "output_type": "stream",
          "name": "stdout",
          "text": [
            "Requirement already satisfied: py-tgb in /usr/local/lib/python3.10/dist-packages (0.9.2)\n",
            "Requirement already satisfied: clint<0.6.0,>=0.5.1 in /usr/local/lib/python3.10/dist-packages (from py-tgb) (0.5.1)\n",
            "Requirement already satisfied: pandas<2.0.0,>=1.5.3 in /usr/local/lib/python3.10/dist-packages (from py-tgb) (1.5.3)\n",
            "Requirement already satisfied: requests<3.0.0,>=2.28.2 in /usr/local/lib/python3.10/dist-packages (from py-tgb) (2.31.0)\n",
            "Requirement already satisfied: scikit-learn<2.0.0,>=1.2.2 in /usr/local/lib/python3.10/dist-packages (from py-tgb) (1.2.2)\n",
            "Requirement already satisfied: torch-geometric<3.0.0,>=2.3.0 in /usr/local/lib/python3.10/dist-packages (from py-tgb) (2.4.0)\n",
            "Requirement already satisfied: tqdm<5.0.0,>=4.65.0 in /usr/local/lib/python3.10/dist-packages (from py-tgb) (4.66.1)\n",
            "Requirement already satisfied: args in /usr/local/lib/python3.10/dist-packages (from clint<0.6.0,>=0.5.1->py-tgb) (0.1.0)\n",
            "Requirement already satisfied: python-dateutil>=2.8.1 in /usr/local/lib/python3.10/dist-packages (from pandas<2.0.0,>=1.5.3->py-tgb) (2.8.2)\n",
            "Requirement already satisfied: pytz>=2020.1 in /usr/local/lib/python3.10/dist-packages (from pandas<2.0.0,>=1.5.3->py-tgb) (2023.3.post1)\n",
            "Requirement already satisfied: numpy>=1.21.0 in /usr/local/lib/python3.10/dist-packages (from pandas<2.0.0,>=1.5.3->py-tgb) (1.23.5)\n",
            "Requirement already satisfied: charset-normalizer<4,>=2 in /usr/local/lib/python3.10/dist-packages (from requests<3.0.0,>=2.28.2->py-tgb) (3.3.2)\n",
            "Requirement already satisfied: idna<4,>=2.5 in /usr/local/lib/python3.10/dist-packages (from requests<3.0.0,>=2.28.2->py-tgb) (3.6)\n",
            "Requirement already satisfied: urllib3<3,>=1.21.1 in /usr/local/lib/python3.10/dist-packages (from requests<3.0.0,>=2.28.2->py-tgb) (2.0.7)\n",
            "Requirement already satisfied: certifi>=2017.4.17 in /usr/local/lib/python3.10/dist-packages (from requests<3.0.0,>=2.28.2->py-tgb) (2023.11.17)\n",
            "Requirement already satisfied: scipy>=1.3.2 in /usr/local/lib/python3.10/dist-packages (from scikit-learn<2.0.0,>=1.2.2->py-tgb) (1.11.4)\n",
            "Requirement already satisfied: joblib>=1.1.1 in /usr/local/lib/python3.10/dist-packages (from scikit-learn<2.0.0,>=1.2.2->py-tgb) (1.3.2)\n",
            "Requirement already satisfied: threadpoolctl>=2.0.0 in /usr/local/lib/python3.10/dist-packages (from scikit-learn<2.0.0,>=1.2.2->py-tgb) (3.2.0)\n",
            "Requirement already satisfied: jinja2 in /usr/local/lib/python3.10/dist-packages (from torch-geometric<3.0.0,>=2.3.0->py-tgb) (3.1.3)\n",
            "Requirement already satisfied: pyparsing in /usr/local/lib/python3.10/dist-packages (from torch-geometric<3.0.0,>=2.3.0->py-tgb) (3.1.1)\n",
            "Requirement already satisfied: psutil>=5.8.0 in /usr/local/lib/python3.10/dist-packages (from torch-geometric<3.0.0,>=2.3.0->py-tgb) (5.9.5)\n",
            "Requirement already satisfied: six>=1.5 in /usr/local/lib/python3.10/dist-packages (from python-dateutil>=2.8.1->pandas<2.0.0,>=1.5.3->py-tgb) (1.16.0)\n",
            "Requirement already satisfied: MarkupSafe>=2.0 in /usr/local/lib/python3.10/dist-packages (from jinja2->torch-geometric<3.0.0,>=2.3.0->py-tgb) (2.1.4)\n"
          ]
        }
      ],
      "source": [
        "!pip install py-tgb"
      ]
    },
    {
      "cell_type": "code",
      "source": [
        "!git clone https://github.com/shenyangHuang/TGB.git"
      ],
      "metadata": {
        "colab": {
          "base_uri": "https://localhost:8080/"
        },
        "id": "EFulHH5b57dv",
        "outputId": "ebcaf96b-3a93-4e27-bbbc-fc1bcd6583b3"
      },
      "execution_count": 39,
      "outputs": [
        {
          "output_type": "stream",
          "name": "stdout",
          "text": [
            "Cloning into 'TGB'...\n",
            "remote: Enumerating objects: 2720, done.\u001b[K\n",
            "remote: Counting objects: 100% (275/275), done.\u001b[K\n",
            "remote: Compressing objects: 100% (159/159), done.\u001b[K\n",
            "remote: Total 2720 (delta 121), reused 167 (delta 107), pack-reused 2445\u001b[K\n",
            "Receiving objects: 100% (2720/2720), 5.39 MiB | 16.67 MiB/s, done.\n",
            "Resolving deltas: 100% (1557/1557), done.\n"
          ]
        }
      ]
    },
    {
      "cell_type": "code",
      "source": [
        "from tgb.linkproppred.dataset_pyg import PyGLinkPropPredDataset\n"
      ],
      "metadata": {
        "id": "FfBmp617pMv1"
      },
      "execution_count": 79,
      "outputs": []
    },
    {
      "cell_type": "code",
      "source": [
        "name = \"tgbl-wiki\"\n",
        "dataset = PyGLinkPropPredDataset(name=name, root=\"datasets\")"
      ],
      "metadata": {
        "colab": {
          "base_uri": "https://localhost:8080/"
        },
        "id": "Eo9CUENWpZAe",
        "outputId": "3bd38bc2-1b8d-4ab7-9e19-0ca524fc639d"
      },
      "execution_count": 84,
      "outputs": [
        {
          "output_type": "stream",
          "name": "stdout",
          "text": [
            "raw file found, skipping download\n",
            "Dataset directory is  /usr/local/lib/python3.10/dist-packages/tgb/datasets/tgbl_wiki\n",
            "loading processed file\n"
          ]
        }
      ]
    },
    {
      "cell_type": "code",
      "source": [
        "data = dataset.get_TemporalData()"
      ],
      "metadata": {
        "id": "TRqsxcD4pkCY"
      },
      "execution_count": 187,
      "outputs": []
    },
    {
      "cell_type": "code",
      "source": [
        "data"
      ],
      "metadata": {
        "colab": {
          "base_uri": "https://localhost:8080/"
        },
        "id": "tCdmUrNqYHW_",
        "outputId": "c6eafcfa-1c66-4568-8b76-3301bdf25e17"
      },
      "execution_count": 188,
      "outputs": [
        {
          "output_type": "execute_result",
          "data": {
            "text/plain": [
              "TemporalData(src=[157474], dst=[157474], t=[157474], msg=[157474, 172], y=[157474])"
            ]
          },
          "metadata": {},
          "execution_count": 188
        }
      ]
    },
    {
      "cell_type": "code",
      "source": [
        "dataset.test_mask.sum()"
      ],
      "metadata": {
        "colab": {
          "base_uri": "https://localhost:8080/"
        },
        "id": "tD7o3ROeZ5M0",
        "outputId": "c303f4b2-4777-48fb-b789-5c7be6bd46f0"
      },
      "execution_count": 189,
      "outputs": [
        {
          "output_type": "execute_result",
          "data": {
            "text/plain": [
              "tensor(23621)"
            ]
          },
          "metadata": {},
          "execution_count": 189
        }
      ]
    },
    {
      "cell_type": "code",
      "source": [
        "dataset.train_mask.sum()"
      ],
      "metadata": {
        "colab": {
          "base_uri": "https://localhost:8080/"
        },
        "id": "joAMtdB4aCLz",
        "outputId": "7629b0df-87c3-4d92-fa28-4e6525b17153"
      },
      "execution_count": 190,
      "outputs": [
        {
          "output_type": "execute_result",
          "data": {
            "text/plain": [
              "tensor(110232)"
            ]
          },
          "metadata": {},
          "execution_count": 190
        }
      ]
    },
    {
      "cell_type": "code",
      "source": [
        "dataset.val_mask.sum()"
      ],
      "metadata": {
        "colab": {
          "base_uri": "https://localhost:8080/"
        },
        "id": "AxSthMpbaD4J",
        "outputId": "87d70bfc-a02b-4945-c397-8e13804ea0fa"
      },
      "execution_count": 191,
      "outputs": [
        {
          "output_type": "execute_result",
          "data": {
            "text/plain": [
              "tensor(23621)"
            ]
          },
          "metadata": {},
          "execution_count": 191
        }
      ]
    },
    {
      "cell_type": "code",
      "source": [
        "c = np.logical_or(dataset.test_mask, dataset.val_mask)\n",
        "c = c.bool()"
      ],
      "metadata": {
        "id": "_WouiNsvaNxi"
      },
      "execution_count": 192,
      "outputs": []
    },
    {
      "cell_type": "code",
      "source": [
        "# data = data[c]"
      ],
      "metadata": {
        "id": "7kZhDRUgapx-"
      },
      "execution_count": 193,
      "outputs": []
    },
    {
      "cell_type": "code",
      "source": [
        "dataset.test_mask"
      ],
      "metadata": {
        "colab": {
          "base_uri": "https://localhost:8080/"
        },
        "id": "hxq-KqzdXux-",
        "outputId": "7cc14f30-3e37-4520-ad6e-732d6058c1a8"
      },
      "execution_count": 194,
      "outputs": [
        {
          "output_type": "execute_result",
          "data": {
            "text/plain": [
              "tensor([False, False, False,  ...,  True,  True,  True])"
            ]
          },
          "metadata": {},
          "execution_count": 194
        }
      ]
    },
    {
      "cell_type": "code",
      "source": [
        "c"
      ],
      "metadata": {
        "colab": {
          "base_uri": "https://localhost:8080/"
        },
        "id": "sdGvSvZwbN3p",
        "outputId": "b3f6cb56-db0e-4bdd-8c66-fafd379eda97"
      },
      "execution_count": 195,
      "outputs": [
        {
          "output_type": "execute_result",
          "data": {
            "text/plain": [
              "tensor([False, False, False,  ...,  True,  True,  True])"
            ]
          },
          "metadata": {},
          "execution_count": 195
        }
      ]
    },
    {
      "cell_type": "code",
      "source": [
        "data = data[dataset.test_mask]"
      ],
      "metadata": {
        "id": "MWUXI7xxXlX4"
      },
      "execution_count": 196,
      "outputs": []
    },
    {
      "cell_type": "code",
      "source": [
        "data.keys()"
      ],
      "metadata": {
        "colab": {
          "base_uri": "https://localhost:8080/"
        },
        "id": "DuWMWVDwYOFE",
        "outputId": "c6b7d0c2-2bbe-494c-c1eb-71673029348f"
      },
      "execution_count": 197,
      "outputs": [
        {
          "output_type": "execute_result",
          "data": {
            "text/plain": [
              "['y', 'msg', 'src', 'dst', 't']"
            ]
          },
          "metadata": {},
          "execution_count": 197
        }
      ]
    },
    {
      "cell_type": "code",
      "source": [
        "data['src']"
      ],
      "metadata": {
        "colab": {
          "base_uri": "https://localhost:8080/"
        },
        "id": "QoGyKhbAYcly",
        "outputId": "3b609c62-76b3-4a84-b9cc-b9ee76e98895"
      },
      "execution_count": 198,
      "outputs": [
        {
          "output_type": "execute_result",
          "data": {
            "text/plain": [
              "tensor([3173, 7326, 7325,  ..., 2399, 7479, 2399])"
            ]
          },
          "metadata": {},
          "execution_count": 198
        }
      ]
    },
    {
      "cell_type": "code",
      "source": [
        "data['dst']"
      ],
      "metadata": {
        "colab": {
          "base_uri": "https://localhost:8080/"
        },
        "id": "oNWaB5hScqdt",
        "outputId": "55d2d662-203a-4862-93fb-73da71327bbe"
      },
      "execution_count": 199,
      "outputs": [
        {
          "output_type": "execute_result",
          "data": {
            "text/plain": [
              "tensor([8267, 8491, 8348,  ..., 8722, 9147, 8722])"
            ]
          },
          "metadata": {},
          "execution_count": 199
        }
      ]
    },
    {
      "cell_type": "code",
      "source": [
        "data['t']"
      ],
      "metadata": {
        "colab": {
          "base_uri": "https://localhost:8080/"
        },
        "id": "VaPuoelghYC9",
        "outputId": "ae5d0a3d-75f3-4b7f-cecb-d2c1d5105c89"
      },
      "execution_count": 207,
      "outputs": [
        {
          "output_type": "execute_result",
          "data": {
            "text/plain": [
              "tensor([2218300, 2218303, 2218304,  ..., 2678293, 2678333, 2678373])"
            ]
          },
          "metadata": {},
          "execution_count": 207
        }
      ]
    },
    {
      "cell_type": "code",
      "source": [],
      "metadata": {
        "colab": {
          "base_uri": "https://localhost:8080/"
        },
        "id": "wK3KQ8J1hoYo",
        "outputId": "5d3e42f7-4539-422d-e810-cfc64213c16a"
      },
      "execution_count": 210,
      "outputs": [
        {
          "output_type": "execute_result",
          "data": {
            "text/plain": [
              "tensor([0., 0., 0.,  ..., 0., 0., 0.])"
            ]
          },
          "metadata": {},
          "execution_count": 210
        }
      ]
    },
    {
      "cell_type": "code",
      "source": [
        "len(data['t'])"
      ],
      "metadata": {
        "colab": {
          "base_uri": "https://localhost:8080/"
        },
        "id": "NKj5rXU0haCW",
        "outputId": "9c09fcd6-bd8d-4b39-bd93-2edee91c9c17"
      },
      "execution_count": 208,
      "outputs": [
        {
          "output_type": "execute_result",
          "data": {
            "text/plain": [
              "23621"
            ]
          },
          "metadata": {},
          "execution_count": 208
        }
      ]
    },
    {
      "cell_type": "code",
      "source": [
        "data['t'].shape"
      ],
      "metadata": {
        "colab": {
          "base_uri": "https://localhost:8080/"
        },
        "id": "r5D2e8LYcDoW",
        "outputId": "19be9dc8-3abb-4aef-b432-d0f47250e067"
      },
      "execution_count": 200,
      "outputs": [
        {
          "output_type": "execute_result",
          "data": {
            "text/plain": [
              "torch.Size([23621])"
            ]
          },
          "metadata": {},
          "execution_count": 200
        }
      ]
    },
    {
      "cell_type": "code",
      "source": [
        "len(data['dst'])"
      ],
      "metadata": {
        "colab": {
          "base_uri": "https://localhost:8080/"
        },
        "id": "zQdWVANlY7e7",
        "outputId": "32a8a940-cc7b-4e23-909b-496a6f087fd4"
      },
      "execution_count": 201,
      "outputs": [
        {
          "output_type": "execute_result",
          "data": {
            "text/plain": [
              "23621"
            ]
          },
          "metadata": {},
          "execution_count": 201
        }
      ]
    },
    {
      "cell_type": "code",
      "source": [
        "pair_cnt = {}\n",
        "\n",
        "for source, dest in zip(data['src'], data['dst']):\n",
        "  pair = (source.item(), dest.item())\n",
        "  if pair in pair_cnt:\n",
        "    pair_cnt[pair] += 1\n",
        "  else:\n",
        "    pair_cnt[pair] = 1"
      ],
      "metadata": {
        "id": "7RX60PMNpuE6"
      },
      "execution_count": 203,
      "outputs": []
    },
    {
      "cell_type": "code",
      "source": [
        "sorted_pair_cnt = dict(sorted(pair_cnt.items(), key=lambda item: -1 * item[1]))"
      ],
      "metadata": {
        "id": "nhskc9sOqqpo"
      },
      "execution_count": 204,
      "outputs": []
    },
    {
      "cell_type": "code",
      "source": [
        "counter = 0\n",
        "for pair, cnt in sorted_pair_cnt.items():\n",
        "  print(pair, cnt)\n",
        "  counter += 1\n",
        "\n",
        "  if counter == 100:\n",
        "    break"
      ],
      "metadata": {
        "colab": {
          "base_uri": "https://localhost:8080/"
        },
        "id": "yMvUcSSiqrNG",
        "outputId": "98634643-3d7b-4b18-9e8b-b60abc2ed3de"
      },
      "execution_count": 213,
      "outputs": [
        {
          "output_type": "stream",
          "name": "stdout",
          "text": [
            "(5791, 9146) 198\n",
            "(6862, 9196) 170\n",
            "(615, 9212) 169\n",
            "(5467, 9118) 164\n",
            "(671, 8935) 153\n",
            "(205, 8689) 151\n",
            "(1296, 9226) 147\n",
            "(1244, 9041) 135\n",
            "(7576, 9217) 134\n",
            "(1296, 9061) 134\n",
            "(3762, 9025) 129\n",
            "(7522, 9213) 127\n",
            "(2846, 8988) 118\n",
            "(1074, 9056) 113\n",
            "(3880, 8762) 110\n",
            "(5320, 8499) 107\n",
            "(3491, 8701) 106\n",
            "(224, 8393) 106\n",
            "(1087, 9220) 105\n",
            "(2000, 8850) 104\n",
            "(145, 8612) 101\n",
            "(898, 9221) 101\n",
            "(94, 9090) 96\n",
            "(4107, 9047) 95\n",
            "(221, 8734) 92\n",
            "(1802, 8250) 89\n",
            "(134, 8340) 89\n",
            "(1089, 9218) 89\n",
            "(1101, 8758) 88\n",
            "(366, 8472) 87\n",
            "(5294, 9108) 87\n",
            "(600, 9216) 87\n",
            "(400, 8817) 86\n",
            "(1066, 9197) 86\n",
            "(1087, 9225) 85\n",
            "(7656, 9219) 84\n",
            "(2345, 8901) 83\n",
            "(512, 9207) 82\n",
            "(2003, 8859) 82\n",
            "(422, 9222) 82\n",
            "(7214, 9208) 79\n",
            "(2836, 9209) 79\n",
            "(1478, 8773) 78\n",
            "(7362, 9211) 76\n",
            "(7479, 9147) 76\n",
            "(1250, 8731) 75\n",
            "(7175, 9206) 75\n",
            "(879, 8834) 75\n",
            "(6545, 9180) 74\n",
            "(6179, 9045) 74\n",
            "(1181, 8711) 70\n",
            "(2268, 8890) 70\n",
            "(559, 8491) 68\n",
            "(142, 9168) 66\n",
            "(7486, 9160) 65\n",
            "(6747, 8550) 64\n",
            "(6752, 9097) 64\n",
            "(3029, 9004) 63\n",
            "(46, 8270) 63\n",
            "(442, 9214) 63\n",
            "(442, 8504) 62\n",
            "(7947, 9021) 62\n",
            "(5968, 9158) 61\n",
            "(2289, 8894) 58\n",
            "(76, 8327) 58\n",
            "(3173, 8267) 57\n",
            "(5894, 8862) 57\n",
            "(6330, 9166) 57\n",
            "(2528, 8919) 56\n",
            "(959, 8253) 55\n",
            "(306, 8428) 55\n",
            "(802, 9030) 53\n",
            "(2788, 8522) 53\n",
            "(2361, 9179) 53\n",
            "(1179, 8702) 52\n",
            "(5415, 8606) 51\n",
            "(270, 8432) 51\n",
            "(205, 9127) 51\n",
            "(4946, 8909) 50\n",
            "(1042, 9170) 50\n",
            "(379, 8954) 50\n",
            "(256, 8421) 50\n",
            "(400, 8489) 48\n",
            "(58, 8280) 48\n",
            "(415, 8497) 48\n",
            "(1916, 8975) 47\n",
            "(179, 8994) 47\n",
            "(1263, 8536) 46\n",
            "(1647, 9210) 45\n",
            "(411, 8740) 45\n",
            "(1381, 8758) 45\n",
            "(2515, 9166) 45\n",
            "(3252, 9130) 45\n",
            "(3252, 8982) 44\n",
            "(6073, 9164) 43\n",
            "(5124, 9095) 43\n",
            "(2068, 8665) 43\n",
            "(467, 8421) 43\n",
            "(6701, 9188) 43\n",
            "(1206, 8734) 42\n"
          ]
        }
      ]
    },
    {
      "cell_type": "code",
      "source": [
        "max(pair_cnt.values())"
      ],
      "metadata": {
        "colab": {
          "base_uri": "https://localhost:8080/"
        },
        "id": "QJIcfbCWZsJ5",
        "outputId": "eaad14dc-4eb5-4bbb-8950-806d45225f8b"
      },
      "execution_count": 183,
      "outputs": [
        {
          "output_type": "execute_result",
          "data": {
            "text/plain": [
              "1"
            ]
          },
          "metadata": {},
          "execution_count": 183
        }
      ]
    },
    {
      "cell_type": "code",
      "source": [
        "first_pair, cnt = next(iter(sorted_pair_cnt.items()))\n",
        "first_pair, cnt"
      ],
      "metadata": {
        "colab": {
          "base_uri": "https://localhost:8080/"
        },
        "id": "A9LytUJQrasI",
        "outputId": "23daf87c-0b75-4a58-ec34-ae2cca131184"
      },
      "execution_count": 36,
      "outputs": [
        {
          "output_type": "execute_result",
          "data": {
            "text/plain": [
              "((134, 8340), 1161)"
            ]
          },
          "metadata": {},
          "execution_count": 36
        }
      ]
    },
    {
      "cell_type": "code",
      "source": [
        "def get_timestamps(data, pair):\n",
        "  timestamps = []\n",
        "  for source, dest, timestamp in zip(data['sources'], data['destinations'], data['timestamps']):\n",
        "    if source == pair[0] and dest == pair[1]:\n",
        "      timestamps.append(timestamp)\n",
        "  return timestamps"
      ],
      "metadata": {
        "id": "LpXgMky_q-LL"
      },
      "execution_count": 27,
      "outputs": []
    },
    {
      "cell_type": "code",
      "source": [
        "timestamps = get_timestamps(data, first_pair)\n",
        "len(timestamps)"
      ],
      "metadata": {
        "colab": {
          "base_uri": "https://localhost:8080/"
        },
        "id": "-8oz0jk5rYH4",
        "outputId": "c9b8362b-94ee-4efb-8a18-aa48bca6310a"
      },
      "execution_count": 30,
      "outputs": [
        {
          "output_type": "execute_result",
          "data": {
            "text/plain": [
              "1161"
            ]
          },
          "metadata": {},
          "execution_count": 30
        }
      ]
    },
    {
      "cell_type": "code",
      "source": [
        "timestamps[10]"
      ],
      "metadata": {
        "colab": {
          "base_uri": "https://localhost:8080/"
        },
        "id": "q59Qh81ZrvQb",
        "outputId": "879c3e75-249c-4df2-97b4-8c6526bb700d"
      },
      "execution_count": 35,
      "outputs": [
        {
          "output_type": "execute_result",
          "data": {
            "text/plain": [
              "23568.0"
            ]
          },
          "metadata": {},
          "execution_count": 35
        }
      ]
    },
    {
      "cell_type": "code",
      "source": [
        "from matplotlib import pyplot as plt\n",
        "\n",
        "plt.plot(timestamps)"
      ],
      "metadata": {
        "colab": {
          "base_uri": "https://localhost:8080/",
          "height": 462
        },
        "id": "0fqqRmGVri4u",
        "outputId": "ed0a4fc0-a510-4787-c0d7-3e5397cfdb26"
      },
      "execution_count": 31,
      "outputs": [
        {
          "output_type": "execute_result",
          "data": {
            "text/plain": [
              "[<matplotlib.lines.Line2D at 0x7e017caac880>]"
            ]
          },
          "metadata": {},
          "execution_count": 31
        },
        {
          "output_type": "display_data",
          "data": {
            "text/plain": [
              "<Figure size 640x480 with 1 Axes>"
            ],
            "image/png": "[encoded data removed]"
          },
          "metadata": {}
        }
      ]
    },
    {
      "cell_type": "code",
      "source": [
        "pair = first_pair\n",
        "pair"
      ],
      "metadata": {
        "colab": {
          "base_uri": "https://localhost:8080/"
        },
        "id": "3a2gB8MQrghG",
        "outputId": "0dc442a7-2625-4278-acd5-49e5693dcc31"
      },
      "execution_count": 54,
      "outputs": [
        {
          "output_type": "execute_result",
          "data": {
            "text/plain": [
              "(134, 8340)"
            ]
          },
          "metadata": {},
          "execution_count": 54
        }
      ]
    },
    {
      "cell_type": "code",
      "source": [
        "sources = []\n",
        "destinations = []\n",
        "timestamps = []\n",
        "for source, dest, timestamp in zip(data['sources'], data['destinations'], data['timestamps']):\n",
        "  if source == pair[0] and dest == pair[1]:\n",
        "    timestamps.append(timestamp)\n",
        "    sources.append(source)\n",
        "    destinations.append(source)\n",
        "\n",
        "# sources = np.array(sources)\n",
        "# destinations = np.array(destinations)\n",
        "# timestamps = np.array(timestamps)"
      ],
      "metadata": {
        "id": "-0fjBcYn5ul7"
      },
      "execution_count": 61,
      "outputs": []
    },
    {
      "cell_type": "code",
      "source": [
        "str(sources)"
      ],
      "metadata": {
        "colab": {
          "base_uri": "https://localhost:8080/",
          "height": 140
        },
        "id": "KXpqtbRXVfk1",
        "outputId": "2b278d39-46e8-4380-edb2-68a816683440"
      },
      "execution_count": 65,
      "outputs": [
        {
          "output_type": "execute_result",
          "data": {
            "text/plain": [
              "'[134, 134, 134, 134, 134, 134, 134, 134, 134, 134, 134, 134, 134, 134, 134, 134, 134, 134, 134, 134, 134, 134, 134, 134, 134, 134, 134, 134, 134, 134, 134, 134, 134, 134, 134, 134, 134, 134, 134, 134, 134, 134, 134, 134, 134, 134, 134, 134, 134, 134, 134, 134, 134, 134, 134, 134, 134, 134, 134, 134, 134, 134, 134, 134, 134, 134, 134, 134, 134, 134, 134, 134, 134, 134, 134, 134, 134, 134, 134, 134, 134, 134, 134, 134, 134, 134, 134, 134, 134, 134, 134, 134, 134, 134, 134, 134, 134, 134, 134, 134, 134, 134, 134, 134, 134, 134, 134, 134, 134, 134, 134, 134, 134, 134, 134, 134, 134, 134, 134, 134, 134, 134, 134, 134, 134, 134, 134, 134, 134, 134, 134, 134, 134, 134, 134, 134, 134, 134, 134, 134, 134, 134, 134, 134, 134, 134, 134, 134, 134, 134, 134, 134, 134, 134, 134, 134, 134, 134, 134, 134, 134, 134, 134, 134, 134, 134, 134, 134, 134, 134, 134, 134, 134, 134, 134, 134, 134, 134, 134, 134, 134, 134, 134, 134, 134, 134, 134, 134, 134, 134, 134, 134, 134, 134, 134, 134, 134, 134, 134, 134, 134, 134, 134, 134, 134, 134, 134, 134, 134, 134, 134, 134, 134, 134, 134, 134, 134, 134, 134, 134, 134, 134, 134, 134, 134, 134, 134, 134, 134, 134, 134, 134, 134, 134, 134, 134, 134, 134, 134, 134, 134, 134, 134, 134, 134, 134, 134, 134, 134, 134, 134, 134, 134, 134, 134, 134, 134, 134, 134, 134, 134, 134, 134, 134, 134, 134, 134, 134, 134, 134, 134, 134, 134, 134, 134, 134, 134, 134, 134, 134, 134, 134, 134, 134, 134, 134, 134, 134, 134, 134, 134, 134, 134, 134, 134, 134, 134, 134, 134, 134, 134, 134, 134, 134, 134, 134, 134, 134, 134, 134, 134, 134, 134, 134, 134, 134, 134, 134, 134, 134, 134, 134, 134, 134, 134, 134, 134, 134, 134, 134, 134, 134, 134, 134, 134, 134, 134, 134, 134, 134, 134, 134, 134, 134, 134, 134, 134, 134, 134, 134, 134, 134, 134, 134, 134, 134, 134, 134, 134, 134, 134, 134, 134, 134, 134, 134, 134, 134, 134, 134, 134, 134, 134, 134, 134, 134, 134, 134, 134, 134, 134, 134, 134, 134, 134, 134, 134, 134, 134, 134, 134, 134, 134, 134, 134, 134, 134, 134, 134, 134, 134, 134, 134, 134, 134, 134, 134, 134, 134, 134, 134, 134, 134, 134, 134, 134, 134, 134, 134, 134, 134, 134, 134, 134, 134, 134, 134, 134, 134, 134, 134, 134, 134, 134, 134, 134, 134, 134, 134, 134, 134, 134, 134, 134, 134, 134, 134, 134, 134, 134, 134, 134, 134, 134, 134, 134, 134, 134, 134, 134, 134, 134, 134, 134, 134, 134, 134, 134, 134, 134, 134, 134, 134, 134, 134, 134, 134, 134, 134, 134, 134, 134, 134, 134, 134, 134, 134, 134, 134, 134, 134, 134, 134, 134, 134, 134, 134, 134, 134, 134, 134, 134, 134, 134, 134, 134, 134, 134, 134, 134, 134, 134, 134, 134, 134, 134, 134, 134, 134, 134, 134, 134, 134, 134, 134, 134, 134, 134, 134, 134, 134, 134, 134, 134, 134, 134, 134, 134, 134, 134, 134, 134, 134, 134, 134, 134, 134, 134, 134, 134, 134, 134, 134, 134, 134, 134, 134, 134, 134, 134, 134, 134, 134, 134, 134, 134, 134, 134, 134, 134, 134, 134, 134, 134, 134, 134, 134, 134, 134, 134, 134, 134, 134, 134, 134, 134, 134, 134, 134, 134, 134, 134, 134, 134, 134, 134, 134, 134, 134, 134, 134, 134, 134, 134, 134, 134, 134, 134, 134, 134, 134, 134, 134, 134, 134, 134, 134, 134, 134, 134, 134, 134, 134, 134, 134, 134, 134, 134, 134, 134, 134, 134, 134, 134, 134, 134, 134, 134, 134, 134, 134, 134, 134, 134, 134, 134, 134, 134, 134, 134, 134, 134, 134, 134, 134, 134, 134, 134, 134, 134, 134, 134, 134, 134, 134, 134, 134, 134, 134, 134, 134, 134, 134, 134, 134, 134, 134, 134, 134, 134, 134, 134, 134, 134, 134, 134, 134, 134, 134, 134, 134, 134, 134, 134, 134, 134, 134, 134, 134, 134, 134, 134, 134, 134, 134, 134, 134, 134, 134, 134, 134, 134, 134, 134, 134, 134, 134, 134, 134, 134, 134, 134, 134, 134, 134, 134, 134, 134, 134, 134, 134, 134, 134, 134, 134, 134, 134, 134, 134, 134, 134, 134, 134, 134, 134, 134, 134, 134, 134, 134, 134, 134, 134, 134, 134, 134, 134, 134, 134, 134, 134, 134, 134, 134, 134, 134, 134, 134, 134, 134, 134, 134, 134, 134, 134, 134, 134, 134, 134, 134, 134, 134, 134, 134, 134, 134, 134, 134, 134, 134, 134, 134, 134, 134, 134, 134, 134, 134, 134, 134, 134, 134, 134, 134, 134, 134, 134, 134, 134, 134, 134, 134, 134, 134, 134, 134, 134, 134, 134, 134, 134, 134, 134, 134, 134, 134, 134, 134, 134, 134, 134, 134, 134, 134, 134, 134, 134, 134, 134, 134, 134, 134, 134, 134, 134, 134, 134, 134, 134, 134, 134, 134, 134, 134, 134, 134, 134, 134, 134, 134, 134, 134, 134, 134, 134, 134, 134, 134, 134, 134, 134, 134, 134, 134, 134, 134, 134, 134, 134, 134, 134, 134, 134, 134, 134, 134, 134, 134, 134, 134, 134, 134, 134, 134, 134, 134, 134, 134, 134, 134, 134, 134, 134, 134, 134, 134, 134, 134, 134, 134, 134, 134, 134, 134, 134, 134, 134, 134, 134, 134, 134, 134, 134, 134, 134, 134, 134, 134, 134, 134, 134, 134, 134, 134, 134, 134, 134, 134, 134, 134, 134, 134, 134, 134, 134, 134, 134, 134, 134, 134, 134, 134, 134, 134, 134, 134, 134, 134, 134, 134, 134, 134, 134, 134, 134, 134, 134, 134, 134, 134, 134, 134, 134, 134, 134, 134, 134, 134, 134, 134, 134, 134, 134, 134, 134, 134, 134, 134, 134, 134, 134, 134, 134, 134, 134, 134, 134, 134, 134, 134, 134, 134, 134, 134, 134, 134, 134, 134, 134, 134, 134, 134, 134, 134, 134, 134, 134, 134, 134, 134, 134, 134, 134, 134, 134, 134, 134, 134, 134, 134, 134, 134, 134, 134, 134, 134, 134, 134, 134, 134, 134, 134, 134, 134, 134, 134, 134, 134, 134, 134, 134, 134, 134, 134, 134, 134, 134, 134, 134, 134, 134, 134, 134, 134, 134, 134, 134, 134, 134, 134, 134, 134, 134, 134, 134, 134, 134, 134, 134, 134, 134, 134, 134, 134, 134, 134, 134, 134, 134, 134, 134, 134, 134, 134, 134, 134, 134, 134, 134, 134, 134, 134, 134, 134, 134, 134, 134, 134, 134, 134, 134, 134, 134, 134, 134, 134, 134, 134, 134, 134, 134, 134, 134, 134, 134, 134, 134, 134, 134, 134, 134, 134, 134, 134, 134, 134, 134, 134, 134, 134, 134, 134, 134, 134, 134, 134, 134, 134, 134, 134, 134, 134, 134, 134, 134, 134, 134, 134, 134, 134, 134]'"
            ],
            "application/vnd.google.colaboratory.intrinsic+json": {
              "type": "string"
            }
          },
          "metadata": {},
          "execution_count": 65
        }
      ]
    },
    {
      "cell_type": "code",
      "source": [
        "str(timestamps)"
      ],
      "metadata": {
        "colab": {
          "base_uri": "https://localhost:8080/",
          "height": 140
        },
        "id": "CWPRdHP3VShL",
        "outputId": "4bb217ac-2299-40f8-bfd2-30f528b92d2e"
      },
      "execution_count": 64,
      "outputs": [
        {
          "output_type": "execute_result",
          "data": {
            "text/plain": [
              "'[16732.0, 16919.0, 17086.0, 17136.0, 20869.0, 22345.0, 22373.0, 22993.0, 23510.0, 23538.0, 23568.0, 23625.0, 23644.0, 191708.0, 191904.0, 191993.0, 192205.0, 192299.0, 192363.0, 192428.0, 192732.0, 192912.0, 193027.0, 193584.0, 193644.0, 193690.0, 193763.0, 193841.0, 193923.0, 194008.0, 194096.0, 195093.0, 195137.0, 195424.0, 195482.0, 195601.0, 195739.0, 195873.0, 196027.0, 196183.0, 243590.0, 243661.0, 243940.0, 243983.0, 244320.0, 244703.0, 244752.0, 244811.0, 244846.0, 244911.0, 245093.0, 245184.0, 245461.0, 245541.0, 245599.0, 245859.0, 245945.0, 246087.0, 246444.0, 246611.0, 246763.0, 246955.0, 247057.0, 247505.0, 247554.0, 247583.0, 247761.0, 248026.0, 248167.0, 248727.0, 249120.0, 249710.0, 249786.0, 249885.0, 250156.0, 250184.0, 250236.0, 250310.0, 250471.0, 250521.0, 251940.0, 252627.0, 255337.0, 255385.0, 255559.0, 255983.0, 256538.0, 256602.0, 256710.0, 256788.0, 257288.0, 257475.0, 257641.0, 257734.0, 257781.0, 257944.0, 258058.0, 258284.0, 258438.0, 258723.0, 258894.0, 258952.0, 259255.0, 259305.0, 259510.0, 259651.0, 259694.0, 259732.0, 259766.0, 260170.0, 260197.0, 260988.0, 261068.0, 261602.0, 262062.0, 262151.0, 262195.0, 262845.0, 262871.0, 263631.0, 263673.0, 263751.0, 263901.0, 264281.0, 264397.0, 264923.0, 264987.0, 265733.0, 265848.0, 270562.0, 270629.0, 270711.0, 270779.0, 270832.0, 270939.0, 284386.0, 345689.0, 378481.0, 378593.0, 378696.0, 527780.0, 531459.0, 531667.0, 531732.0, 532026.0, 532565.0, 532704.0, 532802.0, 533165.0, 533199.0, 533242.0, 533366.0, 533517.0, 533743.0, 533954.0, 534019.0, 534069.0, 535529.0, 535704.0, 535733.0, 535815.0, 535857.0, 535898.0, 535985.0, 536063.0, 536149.0, 536186.0, 536835.0, 536923.0, 537417.0, 537486.0, 537501.0, 537576.0, 537655.0, 537754.0, 538066.0, 538487.0, 538802.0, 538862.0, 539050.0, 539424.0, 539604.0, 543224.0, 543339.0, 543435.0, 543475.0, 543534.0, 543889.0, 544043.0, 545873.0, 545893.0, 545946.0, 545996.0, 546049.0, 546068.0, 710891.0, 711000.0, 711516.0, 711985.0, 712053.0, 712159.0, 712304.0, 734848.0, 735479.0, 762669.0, 763717.0, 764093.0, 764456.0, 765792.0, 765939.0, 766339.0, 766391.0, 766527.0, 766903.0, 767020.0, 767049.0, 767354.0, 767707.0, 767990.0, 768050.0, 768256.0, 769860.0, 770860.0, 771049.0, 771116.0, 771276.0, 771296.0, 771487.0, 771510.0, 771541.0, 771575.0, 771657.0, 771740.0, 772994.0, 773397.0, 773640.0, 773786.0, 773839.0, 773876.0, 774408.0, 774460.0, 774721.0, 774791.0, 774859.0, 774891.0, 774941.0, 775037.0, 775074.0, 775096.0, 775203.0, 775314.0, 775429.0, 776028.0, 776106.0, 776156.0, 776323.0, 776539.0, 777476.0, 777787.0, 777853.0, 777923.0, 777966.0, 778399.0, 778452.0, 778488.0, 778540.0, 778835.0, 779401.0, 779545.0, 779591.0, 779810.0, 779959.0, 780071.0, 780171.0, 780292.0, 780383.0, 780496.0, 780637.0, 780803.0, 780915.0, 781004.0, 781365.0, 781439.0, 781587.0, 781660.0, 781722.0, 781753.0, 781782.0, 781821.0, 781905.0, 781977.0, 782004.0, 782036.0, 782148.0, 782204.0, 782611.0, 782665.0, 782704.0, 782947.0, 783012.0, 783286.0, 783352.0, 783383.0, 783486.0, 783659.0, 783921.0, 783956.0, 784049.0, 784119.0, 784195.0, 784279.0, 784349.0, 784472.0, 784961.0, 785150.0, 785235.0, 785350.0, 785378.0, 785416.0, 785521.0, 788971.0, 789077.0, 789107.0, 789154.0, 789195.0, 789295.0, 789568.0, 789608.0, 789734.0, 789762.0, 789906.0, 789932.0, 790061.0, 790117.0, 790152.0, 790353.0, 790514.0, 791067.0, 791192.0, 791222.0, 795099.0, 795974.0, 796384.0, 796434.0, 796790.0, 796972.0, 797294.0, 797341.0, 797364.0, 797423.0, 797625.0, 797796.0, 797890.0, 797957.0, 807774.0, 807980.0, 808013.0, 808179.0, 808221.0, 808471.0, 808512.0, 808633.0, 808695.0, 808724.0, 808816.0, 808902.0, 808998.0, 809234.0, 809276.0, 814280.0, 814312.0, 814365.0, 814801.0, 814986.0, 815126.0, 815333.0, 815555.0, 816459.0, 816542.0, 818082.0, 818279.0, 818348.0, 818422.0, 818487.0, 818864.0, 819431.0, 819520.0, 820099.0, 820175.0, 858204.0, 858228.0, 858258.0, 858379.0, 858477.0, 858602.0, 859570.0, 859610.0, 859787.0, 859843.0, 861086.0, 870727.0, 875788.0, 877214.0, 877558.0, 877635.0, 877759.0, 903787.0, 903878.0, 903923.0, 903985.0, 904058.0, 907988.0, 908014.0, 908104.0, 908183.0, 908296.0, 908433.0, 908989.0, 909418.0, 909465.0, 909805.0, 909933.0, 909978.0, 910027.0, 910966.0, 911107.0, 911189.0, 911267.0, 911310.0, 911684.0, 937560.0, 937652.0, 937842.0, 939322.0, 939353.0, 942240.0, 942271.0, 942349.0, 942419.0, 942514.0, 942573.0, 942743.0, 942820.0, 942860.0, 942932.0, 942977.0, 943076.0, 943221.0, 943427.0, 943715.0, 943886.0, 943933.0, 944093.0, 944119.0, 944204.0, 944263.0, 944501.0, 944733.0, 945122.0, 945176.0, 945264.0, 945392.0, 945442.0, 945588.0, 945749.0, 945781.0, 945801.0, 945845.0, 945953.0, 945991.0, 946032.0, 959485.0, 959537.0, 959593.0, 959639.0, 959716.0, 959742.0, 959774.0, 959807.0, 960009.0, 960084.0, 960198.0, 960295.0, 960455.0, 960525.0, 960700.0, 960876.0, 961249.0, 961285.0, 961486.0, 961517.0, 961553.0, 961590.0, 961620.0, 961659.0, 961727.0, 961769.0, 961838.0, 962250.0, 963247.0, 963299.0, 963389.0, 963593.0, 963652.0, 963785.0, 963922.0, 963940.0, 963988.0, 964374.0, 964626.0, 964734.0, 964884.0, 964967.0, 965005.0, 965036.0, 965192.0, 965311.0, 965395.0, 965934.0, 965964.0, 966000.0, 966284.0, 966488.0, 966504.0, 966661.0, 982370.0, 995343.0, 1025024.0, 1025136.0, 1025171.0, 1025311.0, 1025357.0, 1025625.0, 1025718.0, 1025816.0, 1025900.0, 1026112.0, 1026571.0, 1026807.0, 1026865.0, 1026925.0, 1031006.0, 1031052.0, 1031084.0, 1031153.0, 1031197.0, 1031234.0, 1031434.0, 1039854.0, 1040733.0, 1040782.0, 1040916.0, 1041612.0, 1041709.0, 1054353.0, 1054422.0, 1054460.0, 1054495.0, 1055052.0, 1055294.0, 1055548.0, 1055628.0, 1055744.0, 1055809.0, 1055949.0, 1056058.0, 1056135.0, 1056236.0, 1056318.0, 1056402.0, 1056490.0, 1056671.0, 1056715.0, 1056754.0, 1056809.0, 1057044.0, 1061479.0, 1061509.0, 1061691.0, 1061889.0, 1061996.0, 1062038.0, 1062086.0, 1062246.0, 1062321.0, 1062354.0, 1062415.0, 1062484.0, 1062557.0, 1062751.0, 1062807.0, 1062842.0, 1062892.0, 1062921.0, 1062961.0, 1063006.0, 1063060.0, 1063095.0, 1063118.0, 1063196.0, 1063235.0, 1063710.0, 1063748.0, 1063966.0, 1064029.0, 1064048.0, 1064068.0, 1064157.0, 1064768.0, 1064784.0, 1064810.0, 1064918.0, 1065056.0, 1065092.0, 1065140.0, 1065219.0, 1065268.0, 1065311.0, 1065337.0, 1065391.0, 1065422.0, 1065554.0, 1065594.0, 1065635.0, 1065694.0, 1065717.0, 1065757.0, 1066217.0, 1201753.0, 1201859.0, 1202047.0, 1202163.0, 1202177.0, 1202283.0, 1202437.0, 1202473.0, 1202503.0, 1202633.0, 1202889.0, 1202965.0, 1203486.0, 1203530.0, 1203624.0, 1203766.0, 1203824.0, 1203944.0, 1204284.0, 1204636.0, 1204773.0, 1204974.0, 1205070.0, 1205089.0, 1205294.0, 1205333.0, 1205460.0, 1205507.0, 1205540.0, 1205599.0, 1205651.0, 1208623.0, 1208656.0, 1208700.0, 1208735.0, 1208784.0, 1210180.0, 1210823.0, 1210854.0, 1210882.0, 1210986.0, 1211437.0, 1294363.0, 1294391.0, 1294834.0, 1295037.0, 1295104.0, 1295142.0, 1295370.0, 1296313.0, 1297383.0, 1297449.0, 1297488.0, 1297558.0, 1297607.0, 1297648.0, 1297731.0, 1297795.0, 1297886.0, 1297967.0, 1298022.0, 1298058.0, 1298660.0, 1298874.0, 1298915.0, 1299169.0, 1299363.0, 1299551.0, 1299686.0, 1299775.0, 1299816.0, 1300027.0, 1300695.0, 1300751.0, 1300809.0, 1301264.0, 1301346.0, 1301447.0, 1310819.0, 1310844.0, 1310894.0, 1312152.0, 1312853.0, 1313335.0, 1314707.0, 1314785.0, 1315835.0, 1316251.0, 1316381.0, 1317641.0, 1317698.0, 1317815.0, 1317859.0, 1317945.0, 1318060.0, 1318093.0, 1318163.0, 1318519.0, 1318639.0, 1319398.0, 1319619.0, 1319676.0, 1319936.0, 1320003.0, 1320027.0, 1320752.0, 1320856.0, 1320951.0, 1321051.0, 1321238.0, 1321333.0, 1321625.0, 1321782.0, 1321836.0, 1321856.0, 1322036.0, 1322760.0, 1323139.0, 1323420.0, 1323479.0, 1323846.0, 1323883.0, 1324134.0, 1324195.0, 1324213.0, 1324423.0, 1324744.0, 1324863.0, 1324914.0, 1325486.0, 1325616.0, 1325710.0, 1325807.0, 1325875.0, 1325995.0, 1326074.0, 1326136.0, 1326157.0, 1326357.0, 1332993.0, 1333017.0, 1333260.0, 1333388.0, 1333563.0, 1333603.0, 1335336.0, 1335408.0, 1335430.0, 1335480.0, 1335812.0, 1335944.0, 1336007.0, 1336074.0, 1336123.0, 1336479.0, 1336880.0, 1337021.0, 1337130.0, 1337189.0, 1337290.0, 1337327.0, 1337433.0, 1337559.0, 1337660.0, 1337971.0, 1338167.0, 1338227.0, 1338255.0, 1338305.0, 1338384.0, 1338744.0, 1338796.0, 1338848.0, 1338949.0, 1338999.0, 1339032.0, 1339059.0, 1339143.0, 1339241.0, 1339361.0, 1339470.0, 1341440.0, 1341480.0, 1341638.0, 1341655.0, 1342513.0, 1342561.0, 1342637.0, 1342990.0, 1343119.0, 1343146.0, 1343279.0, 1343397.0, 1343543.0, 1343591.0, 1343723.0, 1344164.0, 1344487.0, 1369137.0, 1369907.0, 1370290.0, 1370508.0, 1370978.0, 1371415.0, 1371487.0, 1371574.0, 1371754.0, 1372099.0, 1372190.0, 1372233.0, 1372299.0, 1372336.0, 1372499.0, 1372600.0, 1372655.0, 1372693.0, 1372845.0, 1373501.0, 1373881.0, 1374662.0, 1375280.0, 1375726.0, 1375773.0, 1376698.0, 1376772.0, 1377211.0, 1380418.0, 1380577.0, 1380616.0, 1380714.0, 1380760.0, 1380787.0, 1380923.0, 1380946.0, 1380983.0, 1381041.0, 1381079.0, 1381117.0, 1381222.0, 1381403.0, 1381571.0, 1381783.0, 1381830.0, 1381863.0, 1382318.0, 1382694.0, 1382864.0, 1383047.0, 1383077.0, 1383133.0, 1388230.0, 1388444.0, 1389427.0, 1389644.0, 1396013.0, 1396796.0, 1398956.0, 1398986.0, 1399032.0, 1399084.0, 1399722.0, 1399775.0, 1410339.0, 1410567.0, 1411623.0, 1544598.0, 1544661.0, 1544723.0, 1545500.0, 1552211.0, 1552228.0, 1552905.0, 1553154.0, 1558695.0, 1559375.0, 1559399.0, 1559465.0, 1559516.0, 1559789.0, 1560104.0, 1560259.0, 1560287.0, 1560312.0, 1560614.0, 1560752.0, 1560870.0, 1561014.0, 1561058.0, 1561110.0, 1561167.0, 1561428.0, 1561539.0, 1561591.0, 1561780.0, 1561833.0, 1561995.0, 1562057.0, 1562092.0, 1562169.0, 1562201.0, 1562327.0, 1562392.0, 1562464.0, 1562593.0, 1562636.0, 1562672.0, 1562873.0, 1562971.0, 1563124.0, 1563168.0, 1563184.0, 1563344.0, 1563512.0, 1563581.0, 1563634.0, 1563715.0, 1563937.0, 1564291.0, 1564509.0, 1564553.0, 1564641.0, 1564672.0, 1566137.0, 1566187.0, 1566223.0, 1566290.0, 1566322.0, 1567119.0, 1567315.0, 1567435.0, 1567585.0, 1589057.0, 1589108.0, 1589306.0, 1589491.0, 1589519.0, 1632944.0, 1633000.0, 1633196.0, 1633221.0, 1633265.0, 1633557.0, 1633690.0, 1634259.0, 1634359.0, 1635170.0, 1635281.0, 1635394.0, 1635669.0, 1636038.0, 1636102.0, 1636201.0, 1725871.0, 1726066.0, 1726193.0, 1726406.0, 1729161.0, 1729215.0, 1729267.0, 1729311.0, 1729448.0, 1729522.0, 1729775.0, 1730638.0, 1730890.0, 1731050.0, 1731073.0, 1731161.0, 1744901.0, 1744934.0, 1744975.0, 1745133.0, 1747692.0, 1747840.0, 1747914.0, 1748037.0, 1748102.0, 1748369.0, 1748406.0, 1748546.0, 1748611.0, 1757428.0, 1757519.0, 1757558.0, 1759252.0, 1759917.0, 1811896.0, 1983203.0, 1983482.0, 1996472.0, 1996660.0, 1996772.0, 1996866.0, 1996952.0, 1997066.0, 1997096.0, 1997183.0, 1997310.0, 1997339.0, 1997486.0, 1997536.0, 1997649.0, 1997799.0, 1997881.0, 1998097.0, 1998244.0, 1998608.0, 1998724.0, 1999550.0, 1999777.0, 2000054.0, 2007124.0, 2007492.0, 2007854.0, 2007966.0, 2008046.0, 2008094.0, 2008129.0, 2008377.0, 2008552.0, 2008604.0, 2009255.0, 2009780.0, 2009872.0, 2009929.0, 2030130.0, 2030211.0, 2030235.0, 2202109.0, 2204928.0, 2205896.0, 2206658.0, 2206780.0, 2206926.0, 2206956.0, 2207232.0, 2207307.0, 2207693.0, 2207760.0, 2208149.0, 2208295.0, 2208341.0, 2208477.0, 2208579.0, 2239328.0, 2239764.0, 2240186.0, 2242363.0, 2243257.0, 2243474.0, 2243520.0, 2243659.0, 2244238.0, 2244703.0, 2244771.0, 2245145.0, 2245164.0, 2245622.0, 2245690.0, 2245760.0, 2245836.0, 2245957.0, 2246150.0, 2246221.0, 2246353.0, 2246387.0, 2246599.0, 2246754.0, 2247139.0, 2247165.0, 2247288.0, 2247370.0, 2247407.0, 2247471.0, 2247589.0, 2247682.0, 2248787.0, 2249963.0, 2251058.0, 2251222.0, 2251384.0, 2251541.0, 2251694.0, 2251776.0, 2251826.0, 2251878.0, 2252032.0, 2252617.0, 2252672.0, 2252843.0, 2252906.0, 2252941.0, 2253028.0, 2253087.0, 2253463.0, 2254079.0, 2254575.0, 2254619.0, 2254734.0, 2254812.0, 2254962.0, 2255264.0, 2255306.0, 2255614.0, 2255818.0, 2265251.0, 2265349.0, 2265585.0, 2267720.0, 2268070.0, 2268126.0, 2268183.0, 2268606.0, 2274352.0, 2274555.0, 2274929.0, 2275608.0, 2275682.0, 2276588.0, 2277061.0, 2277830.0, 2277906.0, 2278127.0, 2279054.0, 2279264.0, 2279775.0, 2279872.0, 2279985.0, 2285218.0, 2285297.0, 2285718.0, 2419138.0, 2419160.0]'"
            ],
            "application/vnd.google.colaboratory.intrinsic+json": {
              "type": "string"
            }
          },
          "metadata": {},
          "execution_count": 64
        }
      ]
    },
    {
      "cell_type": "code",
      "source": [],
      "metadata": {
        "id": "LctvR-VhVZkM"
      },
      "execution_count": null,
      "outputs": []
    },
    {
      "cell_type": "code",
      "source": [
        "plt.plot([0.6966916918754578, 0.9860804677009583, 0.9860804677009583, 0.9860804677009583, 0.9981822967529297, 0.9981822967529297, 0.9981822967529297, 0.9981822967529297, 0.9981822967529297, 0.9981822967529297, 0.9981822967529297, 0.9981822967529297, 0.9981822967529297, 0.9981822967529297, 0.9990888833999634, 0.9990888833999634, 0.9990888833999634, 0.9990888833999634, 0.9990888833999634, 0.9990888833999634, 0.9983527660369873, 0.9983527660369873, 0.9983527660369873, 0.9985841512680054, 0.9985841512680054, 0.9985841512680054, 0.9985841512680054, 0.9985841512680054, 0.9985841512680054, 0.9923239946365356, 0.9923239946365356, 0.9923239946365356, 0.9995571970939636, 0.9995571970939636, 0.9998775720596313, 0.9998775720596313, 0.9998775720596313, 0.9998775720596313, 0.9998775720596313, 0.9998775720596313, 0.9998775720596313, 0.9999629259109497, 0.9999629259109497, 0.9999803304672241, 0.9999803304672241, 0.9999803304672241, 0.9999803304672241, 0.999964714050293, 0.999964714050293, 0.999964714050293, 0.9999957084655762, 0.9999957084655762, 0.9999957084655762, 0.9999957084655762, 0.9999957084655762, 0.9999957084655762, 0.9999936819076538, 0.9999936819076538, 0.9999936819076538, 0.9999889135360718, 0.9999889135360718, 0.9999889135360718, 0.9999889135360718, 0.9999889135360718, 0.9999889135360718, 0.9999889135360718, 0.9999889135360718, 0.9999889135360718, 0.9999957084655762, 0.9999957084655762, 0.9999971389770508, 0.9999971389770508, 0.9999971389770508, 0.9999971389770508, 0.9999971389770508, 0.9999971389770508, 0.9999971389770508, 0.9999971389770508, 0.9999971389770508, 0.9999971389770508, 0.9999984502792358, 0.9999984502792358, 0.9999984502792358, 0.9999947547912598, 0.9999979734420776, 0.9999979734420776, 0.9999974966049194, 0.9999974966049194, 0.9999986886978149, 0.9999986886978149, 0.9999973773956299, 0.9999973773956299, 0.9999973773956299, 0.9999973773956299, 0.9999973773956299, 0.9999996423721313, 0.9999996423721313, 0.9999996423721313, 0.9999996423721313, 0.9999996423721313, 0.9999996423721313, 0.9999996423721313, 0.9999996423721313, 0.9999996423721313, 0.9999996423721313, 0.9999996423721313, 0.9999996423721313, 0.9999996423721313, 0.9999996423721313, 0.9999996423721313, 0.9999996423721313, 0.9999996423721313, 0.9999996423721313, 0.9999996423721313, 0.9999996423721313, 0.9999996423721313, 0.9999996423721313, 0.9999996423721313, 0.9999996423721313, 0.9999996423721313, 0.9999997615814209, 0.9999997615814209, 0.9999997615814209, 0.9999997615814209, 0.9999997615814209, 0.9999998807907104, 0.9999998807907104, 0.9999998807907104, 0.9999998807907104, 0.9999998807907104, 0.9999998807907104, 0.9999992847442627, 0.9999992847442627, 0.9999992847442627, 0.9999991655349731, 0.9999991655349731, 0.9999998807907104, 1.0, 1.0, 1.0, 1.0, 0.9999998807907104, 0.9999998807907104, 0.9999998807907104, 0.9999998807907104, 0.9999992847442627, 0.9999992847442627, 0.9999992847442627, 0.9999992847442627, 0.9999992847442627, 0.9999992847442627, 0.9999992847442627, 0.9999998807907104, 0.9999998807907104, 0.9999992847442627, 0.9999992847442627, 0.9999992847442627, 0.9999992847442627, 0.9999995231628418, 0.9999995231628418, 0.9999995231628418, 0.9999995231628418, 0.9999995231628418, 0.9999995231628418, 0.9999995231628418, 0.9999995231628418, 0.9999995231628418, 0.9999995231628418, 0.9999995231628418, 0.9999995231628418, 0.9999995231628418, 0.999998927116394, 0.999998927116394, 0.9999992847442627, 0.9999992847442627, 0.9999992847442627, 0.9999992847442627, 0.9999992847442627, 0.9999997615814209, 0.9999997615814209, 0.9999997615814209, 0.9999997615814209, 0.9999998807907104, 0.9999998807907104, 0.9999998807907104, 0.9999998807907104, 0.9999998807907104, 0.9999998807907104, 0.9999998807907104, 0.9999998807907104, 0.9999998807907104, 0.9999998807907104, 0.9999998807907104, 0.9999998807907104, 0.9999998807907104, 0.9999998807907104, 0.9999997615814209, 0.9999997615814209])"
      ],
      "metadata": {
        "colab": {
          "base_uri": "https://localhost:8080/",
          "height": 447
        },
        "id": "5LgXQ_DtiYd4",
        "outputId": "d3a5ab6f-ab49-458c-a332-c310ba321cb9"
      },
      "execution_count": 211,
      "outputs": [
        {
          "output_type": "execute_result",
          "data": {
            "text/plain": [
              "[<matplotlib.lines.Line2D at 0x7e017a9222f0>]"
            ]
          },
          "metadata": {},
          "execution_count": 211
        },
        {
          "output_type": "display_data",
          "data": {
            "text/plain": [
              "<Figure size 640x480 with 1 Axes>"
            ],
            "image/png": "[encoded data removed]"
          },
          "metadata": {}
        }
      ]
    },
    {
      "cell_type": "code",
      "source": [
        "plt.plot([0.836663544178009, 0.017139390110969543, 0.017139390110969543, 0.017139390110969543, 0.017139390110969543, 0.017139390110969543, 0.024223605170845985, 0.9932795166969299, 0.9932795166969299, 0.9932795166969299, 0.9932795166969299, 0.7777556777000427, 0.03685849532485008, 0.8792458176612854, 0.9675284624099731, 0.9675284624099731, 0.9675284624099731, 0.9675284624099731, 0.981442391872406, 0.981442391872406, 0.981442391872406, 0.981442391872406, 0.9921514987945557, 0.9638796448707581, 0.9638796448707581, 0.9638796448707581, 0.9734542965888977, 0.9957979321479797, 0.9957979321479797, 0.9957979321479797, 0.9957979321479797, 0.9957979321479797, 0.994429886341095, 0.00033859378891065717, 0.00033859378891065717, 0.00033859378891065717, 0.00033859378891065717, 0.00033859378891065717, 0.18128497898578644, 0.18128497898578644, 0.254107266664505, 0.254107266664505])"
      ],
      "metadata": {
        "colab": {
          "base_uri": "https://localhost:8080/",
          "height": 447
        },
        "id": "WGJM6S37iZXy",
        "outputId": "6006014e-60ec-47d9-c8c9-4700823e02ad"
      },
      "execution_count": 214,
      "outputs": [
        {
          "output_type": "execute_result",
          "data": {
            "text/plain": [
              "[<matplotlib.lines.Line2D at 0x7e017a940070>]"
            ]
          },
          "metadata": {},
          "execution_count": 214
        },
        {
          "output_type": "display_data",
          "data": {
            "text/plain": [
              "<Figure size 640x480 with 1 Axes>"
            ],
            "image/png": "[encoded data removed]"
          },
          "metadata": {}
        }
      ]
    },
    {
      "cell_type": "code",
      "source": [],
      "metadata": {
        "id": "Z_gqljG2jTmR"
      },
      "execution_count": null,
      "outputs": []
    }
  ]
}